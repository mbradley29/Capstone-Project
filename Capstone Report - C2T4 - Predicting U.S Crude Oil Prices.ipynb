{
 "cells": [
  {
   "cell_type": "code",
   "execution_count": 1,
   "metadata": {},
   "outputs": [],
   "source": [
    "#imports\n",
    "import numpy as np\n",
    "import pandas as pd\n",
    "import seaborn as sns\n",
    "import matplotlib.pyplot as plt\n",
    "\n",
    "#sklearn stuff\n",
    "from sklearn import preprocessing\n",
    "from sklearn.preprocessing import MinMaxScaler, StandardScaler, RobustScaler, MaxAbsScaler\n",
    "from sklearn.model_selection import train_test_split, cross_val_score, GridSearchCV\n",
    "from sklearn.metrics import mean_squared_error, r2_score\n",
    "from sklearn.ensemble import RandomForestRegressor, GradientBoostingRegressor\n",
    "from sklearn.svm import SVR\n",
    "from sklearn.neural_network import MLPRegressor\n",
    "from sklearn.decomposition import PCA\n",
    "\n",
    "from math import sqrt\n",
    "%matplotlib inline"
   ]
  },
  {
   "cell_type": "code",
   "execution_count": 2,
   "metadata": {},
   "outputs": [
    {
     "name": "stdout",
     "output_type": "stream",
     "text": [
      "<class 'pandas.core.frame.DataFrame'>\n",
      "RangeIndex: 365 entries, 0 to 364\n",
      "Data columns (total 11 columns):\n",
      " #   Column                                                                            Non-Null Count  Dtype  \n",
      "---  ------                                                                            --------------  -----  \n",
      " 0   Date                                                                              365 non-null    object \n",
      " 1   WTI Price (Dollars Per Barrel)                                                    365 non-null    float64\n",
      " 2   U.S. Imports of Crude Oil (Thousand Barrels)                                      365 non-null    int64  \n",
      " 3   U.S. Exports of Crude Oil (Thousand Barrels)                                      365 non-null    int64  \n",
      " 4   U.S. Crude Oil Rotary Rigs\n",
      "in Operation (Count)                                   365 non-null    int64  \n",
      " 5   U.S. Field Production of Crude Oil (Thousand Barrels per Day)                     365 non-null    int64  \n",
      " 6   East Coast (PADD 1) Field Production of Crude Oil (Thousand Barrels per Day)      365 non-null    int64  \n",
      " 7   Midwest (PADD 2) Field Production of Crude Oil (Thousand Barrels per Day)         365 non-null    int64  \n",
      " 8   Gulf Coast (PADD 3) Field Production of Crude Oil (Thousand Barrels per Day)      365 non-null    int64  \n",
      " 9   Rocky Mountain (PADD 4) Field Production of Crude Oil (Thousand Barrels per Day)  365 non-null    int64  \n",
      " 10  West Coast (PADD 5) Field Production of Crude Oil (Thousand Barrels per Day)      365 non-null    int64  \n",
      "dtypes: float64(1), int64(9), object(1)\n",
      "memory usage: 31.5+ KB\n"
     ]
    }
   ],
   "source": [
    "# Import the Dataset\n",
    "data = pd.read_csv('Capstone_Dataset.csv')\n",
    "data.info()"
   ]
  },
  {
   "cell_type": "code",
   "execution_count": 3,
   "metadata": {},
   "outputs": [
    {
     "data": {
      "text/html": [
       "<div>\n",
       "<style scoped>\n",
       "    .dataframe tbody tr th:only-of-type {\n",
       "        vertical-align: middle;\n",
       "    }\n",
       "\n",
       "    .dataframe tbody tr th {\n",
       "        vertical-align: top;\n",
       "    }\n",
       "\n",
       "    .dataframe thead th {\n",
       "        text-align: right;\n",
       "    }\n",
       "</style>\n",
       "<table border=\"1\" class=\"dataframe\">\n",
       "  <thead>\n",
       "    <tr style=\"text-align: right;\">\n",
       "      <th></th>\n",
       "      <th>Date</th>\n",
       "      <th>WTI Price (Dollars Per Barrel)</th>\n",
       "      <th>U.S. Imports of Crude Oil (Thousand Barrels)</th>\n",
       "      <th>U.S. Exports of Crude Oil (Thousand Barrels)</th>\n",
       "      <th>U.S. Crude Oil Rotary Rigs\\nin Operation (Count)</th>\n",
       "      <th>U.S. Field Production of Crude Oil (Thousand Barrels per Day)</th>\n",
       "      <th>East Coast (PADD 1) Field Production of Crude Oil (Thousand Barrels per Day)</th>\n",
       "      <th>Midwest (PADD 2) Field Production of Crude Oil (Thousand Barrels per Day)</th>\n",
       "      <th>Gulf Coast (PADD 3) Field Production of Crude Oil (Thousand Barrels per Day)</th>\n",
       "      <th>Rocky Mountain (PADD 4) Field Production of Crude Oil (Thousand Barrels per Day)</th>\n",
       "      <th>West Coast (PADD 5) Field Production of Crude Oil (Thousand Barrels per Day)</th>\n",
       "    </tr>\n",
       "  </thead>\n",
       "  <tbody>\n",
       "    <tr>\n",
       "      <th>0</th>\n",
       "      <td>Jan-1990</td>\n",
       "      <td>22.86</td>\n",
       "      <td>192572</td>\n",
       "      <td>4084</td>\n",
       "      <td>514</td>\n",
       "      <td>7546</td>\n",
       "      <td>35</td>\n",
       "      <td>785</td>\n",
       "      <td>3374</td>\n",
       "      <td>505</td>\n",
       "      <td>2847</td>\n",
       "    </tr>\n",
       "    <tr>\n",
       "      <th>1</th>\n",
       "      <td>Feb-1990</td>\n",
       "      <td>22.11</td>\n",
       "      <td>165046</td>\n",
       "      <td>2843</td>\n",
       "      <td>492</td>\n",
       "      <td>7497</td>\n",
       "      <td>35</td>\n",
       "      <td>744</td>\n",
       "      <td>3401</td>\n",
       "      <td>508</td>\n",
       "      <td>2809</td>\n",
       "    </tr>\n",
       "    <tr>\n",
       "      <th>2</th>\n",
       "      <td>Mar-1990</td>\n",
       "      <td>20.39</td>\n",
       "      <td>189625</td>\n",
       "      <td>4104</td>\n",
       "      <td>478</td>\n",
       "      <td>7433</td>\n",
       "      <td>31</td>\n",
       "      <td>745</td>\n",
       "      <td>3348</td>\n",
       "      <td>508</td>\n",
       "      <td>2801</td>\n",
       "    </tr>\n",
       "    <tr>\n",
       "      <th>3</th>\n",
       "      <td>Apr-1990</td>\n",
       "      <td>18.43</td>\n",
       "      <td>174393</td>\n",
       "      <td>3338</td>\n",
       "      <td>484</td>\n",
       "      <td>7407</td>\n",
       "      <td>32</td>\n",
       "      <td>736</td>\n",
       "      <td>3354</td>\n",
       "      <td>502</td>\n",
       "      <td>2783</td>\n",
       "    </tr>\n",
       "    <tr>\n",
       "      <th>4</th>\n",
       "      <td>May-1990</td>\n",
       "      <td>18.20</td>\n",
       "      <td>200067</td>\n",
       "      <td>3474</td>\n",
       "      <td>493</td>\n",
       "      <td>7328</td>\n",
       "      <td>31</td>\n",
       "      <td>737</td>\n",
       "      <td>3310</td>\n",
       "      <td>506</td>\n",
       "      <td>2744</td>\n",
       "    </tr>\n",
       "    <tr>\n",
       "      <th>5</th>\n",
       "      <td>Jun-1990</td>\n",
       "      <td>16.70</td>\n",
       "      <td>192704</td>\n",
       "      <td>2639</td>\n",
       "      <td>498</td>\n",
       "      <td>7106</td>\n",
       "      <td>29</td>\n",
       "      <td>723</td>\n",
       "      <td>3280</td>\n",
       "      <td>499</td>\n",
       "      <td>2575</td>\n",
       "    </tr>\n",
       "    <tr>\n",
       "      <th>6</th>\n",
       "      <td>Jul-1990</td>\n",
       "      <td>18.45</td>\n",
       "      <td>212514</td>\n",
       "      <td>2762</td>\n",
       "      <td>497</td>\n",
       "      <td>7173</td>\n",
       "      <td>27</td>\n",
       "      <td>727</td>\n",
       "      <td>3282</td>\n",
       "      <td>488</td>\n",
       "      <td>2649</td>\n",
       "    </tr>\n",
       "    <tr>\n",
       "      <th>7</th>\n",
       "      <td>Aug-1990</td>\n",
       "      <td>27.31</td>\n",
       "      <td>200000</td>\n",
       "      <td>1990</td>\n",
       "      <td>506</td>\n",
       "      <td>7287</td>\n",
       "      <td>28</td>\n",
       "      <td>762</td>\n",
       "      <td>3316</td>\n",
       "      <td>492</td>\n",
       "      <td>2690</td>\n",
       "    </tr>\n",
       "    <tr>\n",
       "      <th>8</th>\n",
       "      <td>Sep-1990</td>\n",
       "      <td>33.51</td>\n",
       "      <td>169907</td>\n",
       "      <td>2050</td>\n",
       "      <td>566</td>\n",
       "      <td>7224</td>\n",
       "      <td>27</td>\n",
       "      <td>732</td>\n",
       "      <td>3306</td>\n",
       "      <td>492</td>\n",
       "      <td>2667</td>\n",
       "    </tr>\n",
       "    <tr>\n",
       "      <th>9</th>\n",
       "      <td>Oct-1990</td>\n",
       "      <td>36.04</td>\n",
       "      <td>159080</td>\n",
       "      <td>3233</td>\n",
       "      <td>588</td>\n",
       "      <td>7542</td>\n",
       "      <td>28</td>\n",
       "      <td>763</td>\n",
       "      <td>3388</td>\n",
       "      <td>498</td>\n",
       "      <td>2864</td>\n",
       "    </tr>\n",
       "  </tbody>\n",
       "</table>\n",
       "</div>"
      ],
      "text/plain": [
       "       Date  WTI Price (Dollars Per Barrel)  \\\n",
       "0  Jan-1990                           22.86   \n",
       "1  Feb-1990                           22.11   \n",
       "2  Mar-1990                           20.39   \n",
       "3  Apr-1990                           18.43   \n",
       "4  May-1990                           18.20   \n",
       "5  Jun-1990                           16.70   \n",
       "6  Jul-1990                           18.45   \n",
       "7  Aug-1990                           27.31   \n",
       "8  Sep-1990                           33.51   \n",
       "9  Oct-1990                           36.04   \n",
       "\n",
       "   U.S. Imports of Crude Oil (Thousand Barrels)  \\\n",
       "0                                        192572   \n",
       "1                                        165046   \n",
       "2                                        189625   \n",
       "3                                        174393   \n",
       "4                                        200067   \n",
       "5                                        192704   \n",
       "6                                        212514   \n",
       "7                                        200000   \n",
       "8                                        169907   \n",
       "9                                        159080   \n",
       "\n",
       "   U.S. Exports of Crude Oil (Thousand Barrels)  \\\n",
       "0                                          4084   \n",
       "1                                          2843   \n",
       "2                                          4104   \n",
       "3                                          3338   \n",
       "4                                          3474   \n",
       "5                                          2639   \n",
       "6                                          2762   \n",
       "7                                          1990   \n",
       "8                                          2050   \n",
       "9                                          3233   \n",
       "\n",
       "   U.S. Crude Oil Rotary Rigs\\nin Operation (Count)  \\\n",
       "0                                               514   \n",
       "1                                               492   \n",
       "2                                               478   \n",
       "3                                               484   \n",
       "4                                               493   \n",
       "5                                               498   \n",
       "6                                               497   \n",
       "7                                               506   \n",
       "8                                               566   \n",
       "9                                               588   \n",
       "\n",
       "   U.S. Field Production of Crude Oil (Thousand Barrels per Day)  \\\n",
       "0                                               7546               \n",
       "1                                               7497               \n",
       "2                                               7433               \n",
       "3                                               7407               \n",
       "4                                               7328               \n",
       "5                                               7106               \n",
       "6                                               7173               \n",
       "7                                               7287               \n",
       "8                                               7224               \n",
       "9                                               7542               \n",
       "\n",
       "   East Coast (PADD 1) Field Production of Crude Oil (Thousand Barrels per Day)  \\\n",
       "0                                                 35                              \n",
       "1                                                 35                              \n",
       "2                                                 31                              \n",
       "3                                                 32                              \n",
       "4                                                 31                              \n",
       "5                                                 29                              \n",
       "6                                                 27                              \n",
       "7                                                 28                              \n",
       "8                                                 27                              \n",
       "9                                                 28                              \n",
       "\n",
       "   Midwest (PADD 2) Field Production of Crude Oil (Thousand Barrels per Day)  \\\n",
       "0                                                785                           \n",
       "1                                                744                           \n",
       "2                                                745                           \n",
       "3                                                736                           \n",
       "4                                                737                           \n",
       "5                                                723                           \n",
       "6                                                727                           \n",
       "7                                                762                           \n",
       "8                                                732                           \n",
       "9                                                763                           \n",
       "\n",
       "   Gulf Coast (PADD 3) Field Production of Crude Oil (Thousand Barrels per Day)  \\\n",
       "0                                               3374                              \n",
       "1                                               3401                              \n",
       "2                                               3348                              \n",
       "3                                               3354                              \n",
       "4                                               3310                              \n",
       "5                                               3280                              \n",
       "6                                               3282                              \n",
       "7                                               3316                              \n",
       "8                                               3306                              \n",
       "9                                               3388                              \n",
       "\n",
       "   Rocky Mountain (PADD 4) Field Production of Crude Oil (Thousand Barrels per Day)  \\\n",
       "0                                                505                                  \n",
       "1                                                508                                  \n",
       "2                                                508                                  \n",
       "3                                                502                                  \n",
       "4                                                506                                  \n",
       "5                                                499                                  \n",
       "6                                                488                                  \n",
       "7                                                492                                  \n",
       "8                                                492                                  \n",
       "9                                                498                                  \n",
       "\n",
       "   West Coast (PADD 5) Field Production of Crude Oil (Thousand Barrels per Day)  \n",
       "0                                               2847                             \n",
       "1                                               2809                             \n",
       "2                                               2801                             \n",
       "3                                               2783                             \n",
       "4                                               2744                             \n",
       "5                                               2575                             \n",
       "6                                               2649                             \n",
       "7                                               2690                             \n",
       "8                                               2667                             \n",
       "9                                               2864                             "
      ]
     },
     "execution_count": 3,
     "metadata": {},
     "output_type": "execute_result"
    }
   ],
   "source": [
    "data.head(10)"
   ]
  },
  {
   "cell_type": "code",
   "execution_count": 4,
   "metadata": {},
   "outputs": [
    {
     "data": {
      "text/html": [
       "<div>\n",
       "<style scoped>\n",
       "    .dataframe tbody tr th:only-of-type {\n",
       "        vertical-align: middle;\n",
       "    }\n",
       "\n",
       "    .dataframe tbody tr th {\n",
       "        vertical-align: top;\n",
       "    }\n",
       "\n",
       "    .dataframe thead th {\n",
       "        text-align: right;\n",
       "    }\n",
       "</style>\n",
       "<table border=\"1\" class=\"dataframe\">\n",
       "  <thead>\n",
       "    <tr style=\"text-align: right;\">\n",
       "      <th></th>\n",
       "      <th>Oil_Price</th>\n",
       "      <th>Oil_Imports</th>\n",
       "      <th>Oil_Exports</th>\n",
       "      <th>Rig_Count</th>\n",
       "      <th>U.S._Oil_Production</th>\n",
       "      <th>EastCoast_Oil_Production</th>\n",
       "      <th>Midwest_Oil_Production</th>\n",
       "      <th>GulfCoast_Oil_Production</th>\n",
       "      <th>RockyMountain_Oil_Production</th>\n",
       "      <th>WestCoast_Oil_Production</th>\n",
       "    </tr>\n",
       "  </thead>\n",
       "  <tbody>\n",
       "    <tr>\n",
       "      <th>0</th>\n",
       "      <td>22.86</td>\n",
       "      <td>192572</td>\n",
       "      <td>4084</td>\n",
       "      <td>514</td>\n",
       "      <td>7546</td>\n",
       "      <td>35</td>\n",
       "      <td>785</td>\n",
       "      <td>3374</td>\n",
       "      <td>505</td>\n",
       "      <td>2847</td>\n",
       "    </tr>\n",
       "    <tr>\n",
       "      <th>1</th>\n",
       "      <td>22.11</td>\n",
       "      <td>165046</td>\n",
       "      <td>2843</td>\n",
       "      <td>492</td>\n",
       "      <td>7497</td>\n",
       "      <td>35</td>\n",
       "      <td>744</td>\n",
       "      <td>3401</td>\n",
       "      <td>508</td>\n",
       "      <td>2809</td>\n",
       "    </tr>\n",
       "    <tr>\n",
       "      <th>2</th>\n",
       "      <td>20.39</td>\n",
       "      <td>189625</td>\n",
       "      <td>4104</td>\n",
       "      <td>478</td>\n",
       "      <td>7433</td>\n",
       "      <td>31</td>\n",
       "      <td>745</td>\n",
       "      <td>3348</td>\n",
       "      <td>508</td>\n",
       "      <td>2801</td>\n",
       "    </tr>\n",
       "    <tr>\n",
       "      <th>3</th>\n",
       "      <td>18.43</td>\n",
       "      <td>174393</td>\n",
       "      <td>3338</td>\n",
       "      <td>484</td>\n",
       "      <td>7407</td>\n",
       "      <td>32</td>\n",
       "      <td>736</td>\n",
       "      <td>3354</td>\n",
       "      <td>502</td>\n",
       "      <td>2783</td>\n",
       "    </tr>\n",
       "    <tr>\n",
       "      <th>4</th>\n",
       "      <td>18.20</td>\n",
       "      <td>200067</td>\n",
       "      <td>3474</td>\n",
       "      <td>493</td>\n",
       "      <td>7328</td>\n",
       "      <td>31</td>\n",
       "      <td>737</td>\n",
       "      <td>3310</td>\n",
       "      <td>506</td>\n",
       "      <td>2744</td>\n",
       "    </tr>\n",
       "  </tbody>\n",
       "</table>\n",
       "</div>"
      ],
      "text/plain": [
       "   Oil_Price  Oil_Imports  Oil_Exports  Rig_Count  U.S._Oil_Production  \\\n",
       "0      22.86       192572         4084        514                 7546   \n",
       "1      22.11       165046         2843        492                 7497   \n",
       "2      20.39       189625         4104        478                 7433   \n",
       "3      18.43       174393         3338        484                 7407   \n",
       "4      18.20       200067         3474        493                 7328   \n",
       "\n",
       "   EastCoast_Oil_Production  Midwest_Oil_Production  GulfCoast_Oil_Production  \\\n",
       "0                        35                     785                      3374   \n",
       "1                        35                     744                      3401   \n",
       "2                        31                     745                      3348   \n",
       "3                        32                     736                      3354   \n",
       "4                        31                     737                      3310   \n",
       "\n",
       "   RockyMountain_Oil_Production  WestCoast_Oil_Production  \n",
       "0                           505                      2847  \n",
       "1                           508                      2809  \n",
       "2                           508                      2801  \n",
       "3                           502                      2783  \n",
       "4                           506                      2744  "
      ]
     },
     "execution_count": 4,
     "metadata": {},
     "output_type": "execute_result"
    }
   ],
   "source": [
    "# Rename columns\n",
    "data['Oil_Price'] = data['WTI Price (Dollars Per Barrel)']\n",
    "data['Oil_Imports'] = data['U.S. Imports of Crude Oil (Thousand Barrels)']\n",
    "data['Oil_Exports'] = data['U.S. Exports of Crude Oil (Thousand Barrels)']\n",
    "data['Rig_Count'] = data['U.S. Crude Oil Rotary Rigs\\nin Operation (Count)']\n",
    "data['U.S._Oil_Production'] = data['U.S. Field Production of Crude Oil (Thousand Barrels per Day)']\n",
    "data['EastCoast_Oil_Production'] = data['East Coast (PADD 1) Field Production of Crude Oil (Thousand Barrels per Day)']\n",
    "data['Midwest_Oil_Production'] = data['Midwest (PADD 2) Field Production of Crude Oil (Thousand Barrels per Day)']\n",
    "data['GulfCoast_Oil_Production'] = data['Gulf Coast (PADD 3) Field Production of Crude Oil (Thousand Barrels per Day)']\n",
    "data['RockyMountain_Oil_Production'] = data['Rocky Mountain (PADD 4) Field Production of Crude Oil (Thousand Barrels per Day)']\n",
    "data['WestCoast_Oil_Production'] = data['West Coast (PADD 5) Field Production of Crude Oil (Thousand Barrels per Day)']\n",
    "\n",
    "# Drop unneeded columns\n",
    "data = data.drop(['Date', 'WTI Price (Dollars Per Barrel)', 'U.S. Imports of Crude Oil (Thousand Barrels)',\n",
    "                 'U.S. Exports of Crude Oil (Thousand Barrels)', 'U.S. Crude Oil Rotary Rigs\\nin Operation (Count)',\n",
    "                 'U.S. Field Production of Crude Oil (Thousand Barrels per Day)',\n",
    "                 'East Coast (PADD 1) Field Production of Crude Oil (Thousand Barrels per Day)',\n",
    "                 'Midwest (PADD 2) Field Production of Crude Oil (Thousand Barrels per Day)',\n",
    "                 'Gulf Coast (PADD 3) Field Production of Crude Oil (Thousand Barrels per Day)',\n",
    "                 'Rocky Mountain (PADD 4) Field Production of Crude Oil (Thousand Barrels per Day)',\n",
    "                 'West Coast (PADD 5) Field Production of Crude Oil (Thousand Barrels per Day)'], axis=1)\n",
    "\n",
    "data.head()"
   ]
  },
  {
   "cell_type": "code",
   "execution_count": 5,
   "metadata": {},
   "outputs": [
    {
     "data": {
      "text/plain": [
       "Oil_Price                       float64\n",
       "Oil_Imports                       int64\n",
       "Oil_Exports                       int64\n",
       "Rig_Count                         int64\n",
       "U.S._Oil_Production               int64\n",
       "EastCoast_Oil_Production          int64\n",
       "Midwest_Oil_Production            int64\n",
       "GulfCoast_Oil_Production          int64\n",
       "RockyMountain_Oil_Production      int64\n",
       "WestCoast_Oil_Production          int64\n",
       "dtype: object"
      ]
     },
     "execution_count": 5,
     "metadata": {},
     "output_type": "execute_result"
    }
   ],
   "source": [
    "# Check the data types\n",
    "data.dtypes"
   ]
  },
  {
   "cell_type": "code",
   "execution_count": 6,
   "metadata": {},
   "outputs": [
    {
     "data": {
      "text/plain": [
       "Oil_Price                       0\n",
       "Oil_Imports                     0\n",
       "Oil_Exports                     0\n",
       "Rig_Count                       0\n",
       "U.S._Oil_Production             0\n",
       "EastCoast_Oil_Production        0\n",
       "Midwest_Oil_Production          0\n",
       "GulfCoast_Oil_Production        0\n",
       "RockyMountain_Oil_Production    0\n",
       "WestCoast_Oil_Production        0\n",
       "dtype: int64"
      ]
     },
     "execution_count": 6,
     "metadata": {},
     "output_type": "execute_result"
    }
   ],
   "source": [
    "# Drop duplicate rows\n",
    "data = data.drop_duplicates()\n",
    "\n",
    "# Check for nulls\n",
    "nulls = data.isnull().sum()\n",
    "nulls"
   ]
  },
  {
   "cell_type": "code",
   "execution_count": 7,
   "metadata": {},
   "outputs": [
    {
     "data": {
      "text/html": [
       "<div>\n",
       "<style scoped>\n",
       "    .dataframe tbody tr th:only-of-type {\n",
       "        vertical-align: middle;\n",
       "    }\n",
       "\n",
       "    .dataframe tbody tr th {\n",
       "        vertical-align: top;\n",
       "    }\n",
       "\n",
       "    .dataframe thead th {\n",
       "        text-align: right;\n",
       "    }\n",
       "</style>\n",
       "<table border=\"1\" class=\"dataframe\">\n",
       "  <thead>\n",
       "    <tr style=\"text-align: right;\">\n",
       "      <th></th>\n",
       "      <th>Oil_Price</th>\n",
       "      <th>Oil_Imports</th>\n",
       "      <th>Oil_Exports</th>\n",
       "      <th>Rig_Count</th>\n",
       "      <th>U.S._Oil_Production</th>\n",
       "      <th>EastCoast_Oil_Production</th>\n",
       "      <th>Midwest_Oil_Production</th>\n",
       "      <th>GulfCoast_Oil_Production</th>\n",
       "      <th>RockyMountain_Oil_Production</th>\n",
       "      <th>WestCoast_Oil_Production</th>\n",
       "    </tr>\n",
       "  </thead>\n",
       "  <tbody>\n",
       "    <tr>\n",
       "      <th>count</th>\n",
       "      <td>365.000000</td>\n",
       "      <td>365.000000</td>\n",
       "      <td>365.000000</td>\n",
       "      <td>365.000000</td>\n",
       "      <td>365.000000</td>\n",
       "      <td>365.000000</td>\n",
       "      <td>365.000000</td>\n",
       "      <td>365.000000</td>\n",
       "      <td>365.000000</td>\n",
       "      <td>365.000000</td>\n",
       "    </tr>\n",
       "    <tr>\n",
       "      <th>mean</th>\n",
       "      <td>47.586082</td>\n",
       "      <td>250595.868493</td>\n",
       "      <td>10582.882192</td>\n",
       "      <td>503.287671</td>\n",
       "      <td>6938.547945</td>\n",
       "      <td>30.693151</td>\n",
       "      <td>888.528767</td>\n",
       "      <td>3879.709589</td>\n",
       "      <td>463.471233</td>\n",
       "      <td>1676.153425</td>\n",
       "    </tr>\n",
       "    <tr>\n",
       "      <th>std</th>\n",
       "      <td>29.108127</td>\n",
       "      <td>42389.848480</td>\n",
       "      <td>22408.439895</td>\n",
       "      <td>378.852543</td>\n",
       "      <td>1885.005407</td>\n",
       "      <td>14.760695</td>\n",
       "      <td>567.528309</td>\n",
       "      <td>1417.490226</td>\n",
       "      <td>185.486167</td>\n",
       "      <td>601.029107</td>\n",
       "    </tr>\n",
       "    <tr>\n",
       "      <th>min</th>\n",
       "      <td>11.350000</td>\n",
       "      <td>142930.000000</td>\n",
       "      <td>52.000000</td>\n",
       "      <td>108.000000</td>\n",
       "      <td>3974.000000</td>\n",
       "      <td>14.000000</td>\n",
       "      <td>412.000000</td>\n",
       "      <td>1664.000000</td>\n",
       "      <td>281.000000</td>\n",
       "      <td>803.000000</td>\n",
       "    </tr>\n",
       "    <tr>\n",
       "      <th>25%</th>\n",
       "      <td>21.280000</td>\n",
       "      <td>221130.000000</td>\n",
       "      <td>975.000000</td>\n",
       "      <td>244.000000</td>\n",
       "      <td>5607.000000</td>\n",
       "      <td>21.000000</td>\n",
       "      <td>473.000000</td>\n",
       "      <td>3135.000000</td>\n",
       "      <td>349.000000</td>\n",
       "      <td>1134.000000</td>\n",
       "    </tr>\n",
       "    <tr>\n",
       "      <th>50%</th>\n",
       "      <td>40.750000</td>\n",
       "      <td>248909.000000</td>\n",
       "      <td>2241.000000</td>\n",
       "      <td>358.000000</td>\n",
       "      <td>6442.000000</td>\n",
       "      <td>26.000000</td>\n",
       "      <td>596.000000</td>\n",
       "      <td>3255.000000</td>\n",
       "      <td>383.000000</td>\n",
       "      <td>1597.000000</td>\n",
       "    </tr>\n",
       "    <tr>\n",
       "      <th>75%</th>\n",
       "      <td>67.870000</td>\n",
       "      <td>284528.000000</td>\n",
       "      <td>4646.000000</td>\n",
       "      <td>668.000000</td>\n",
       "      <td>7433.000000</td>\n",
       "      <td>31.000000</td>\n",
       "      <td>1248.000000</td>\n",
       "      <td>4047.000000</td>\n",
       "      <td>502.000000</td>\n",
       "      <td>2212.000000</td>\n",
       "    </tr>\n",
       "    <tr>\n",
       "      <th>max</th>\n",
       "      <td>133.880000</td>\n",
       "      <td>327476.000000</td>\n",
       "      <td>113731.000000</td>\n",
       "      <td>1596.000000</td>\n",
       "      <td>12860.000000</td>\n",
       "      <td>83.000000</td>\n",
       "      <td>2332.000000</td>\n",
       "      <td>8660.000000</td>\n",
       "      <td>1021.000000</td>\n",
       "      <td>2878.000000</td>\n",
       "    </tr>\n",
       "  </tbody>\n",
       "</table>\n",
       "</div>"
      ],
      "text/plain": [
       "        Oil_Price    Oil_Imports    Oil_Exports    Rig_Count  \\\n",
       "count  365.000000     365.000000     365.000000   365.000000   \n",
       "mean    47.586082  250595.868493   10582.882192   503.287671   \n",
       "std     29.108127   42389.848480   22408.439895   378.852543   \n",
       "min     11.350000  142930.000000      52.000000   108.000000   \n",
       "25%     21.280000  221130.000000     975.000000   244.000000   \n",
       "50%     40.750000  248909.000000    2241.000000   358.000000   \n",
       "75%     67.870000  284528.000000    4646.000000   668.000000   \n",
       "max    133.880000  327476.000000  113731.000000  1596.000000   \n",
       "\n",
       "       U.S._Oil_Production  EastCoast_Oil_Production  Midwest_Oil_Production  \\\n",
       "count           365.000000                365.000000              365.000000   \n",
       "mean           6938.547945                 30.693151              888.528767   \n",
       "std            1885.005407                 14.760695              567.528309   \n",
       "min            3974.000000                 14.000000              412.000000   \n",
       "25%            5607.000000                 21.000000              473.000000   \n",
       "50%            6442.000000                 26.000000              596.000000   \n",
       "75%            7433.000000                 31.000000             1248.000000   \n",
       "max           12860.000000                 83.000000             2332.000000   \n",
       "\n",
       "       GulfCoast_Oil_Production  RockyMountain_Oil_Production  \\\n",
       "count                365.000000                    365.000000   \n",
       "mean                3879.709589                    463.471233   \n",
       "std                 1417.490226                    185.486167   \n",
       "min                 1664.000000                    281.000000   \n",
       "25%                 3135.000000                    349.000000   \n",
       "50%                 3255.000000                    383.000000   \n",
       "75%                 4047.000000                    502.000000   \n",
       "max                 8660.000000                   1021.000000   \n",
       "\n",
       "       WestCoast_Oil_Production  \n",
       "count                365.000000  \n",
       "mean                1676.153425  \n",
       "std                  601.029107  \n",
       "min                  803.000000  \n",
       "25%                 1134.000000  \n",
       "50%                 1597.000000  \n",
       "75%                 2212.000000  \n",
       "max                 2878.000000  "
      ]
     },
     "execution_count": 7,
     "metadata": {},
     "output_type": "execute_result"
    }
   ],
   "source": [
    "# View the makeup of the data\n",
    "data.describe()"
   ]
  },
  {
   "cell_type": "markdown",
   "metadata": {},
   "source": [
    "The price of oil ranges from 11.35 to 133.88 with a mean of 47.58 and standard deviation of 29.1. The Gulf Coast Region has the highest production of all the Regions with a mean of 3879.7 Thousand Barrels Per Day and the East Coast Region has the lowest production with a mean of 30.69 Thousand Barrels Per Day."
   ]
  },
  {
   "cell_type": "markdown",
   "metadata": {},
   "source": [
    "All datatypes are numeric values, there are no duplicate rows or null values, the column 'Date' has been removed and all column names have been changed."
   ]
  },
  {
   "cell_type": "code",
   "execution_count": 8,
   "metadata": {},
   "outputs": [],
   "source": [
    "# Save the cleaned dataset in a csv file\n",
    "data.to_csv('Capstone_Cleaned.csv', index=False)"
   ]
  },
  {
   "cell_type": "code",
   "execution_count": 9,
   "metadata": {},
   "outputs": [
    {
     "name": "stdout",
     "output_type": "stream",
     "text": [
      "<class 'pandas.core.frame.DataFrame'>\n",
      "RangeIndex: 365 entries, 0 to 364\n",
      "Data columns (total 10 columns):\n",
      " #   Column                        Non-Null Count  Dtype  \n",
      "---  ------                        --------------  -----  \n",
      " 0   Oil_Price                     365 non-null    float64\n",
      " 1   Oil_Imports                   365 non-null    int64  \n",
      " 2   Oil_Exports                   365 non-null    int64  \n",
      " 3   Rig_Count                     365 non-null    int64  \n",
      " 4   U.S._Oil_Production           365 non-null    int64  \n",
      " 5   EastCoast_Oil_Production      365 non-null    int64  \n",
      " 6   Midwest_Oil_Production        365 non-null    int64  \n",
      " 7   GulfCoast_Oil_Production      365 non-null    int64  \n",
      " 8   RockyMountain_Oil_Production  365 non-null    int64  \n",
      " 9   WestCoast_Oil_Production      365 non-null    int64  \n",
      "dtypes: float64(1), int64(9)\n",
      "memory usage: 28.6 KB\n"
     ]
    }
   ],
   "source": [
    "# Import the cleaned Dataset\n",
    "data = pd.read_csv('Capstone_Cleaned.csv')\n",
    "data.info()"
   ]
  },
  {
   "cell_type": "code",
   "execution_count": 10,
   "metadata": {},
   "outputs": [
    {
     "data": {
      "text/plain": [
       "(348,)"
      ]
     },
     "execution_count": 10,
     "metadata": {},
     "output_type": "execute_result"
    }
   ],
   "source": [
    "# Check number of distinct values for Oil Price\n",
    "data['Oil_Price'].value_counts().shape"
   ]
  },
  {
   "cell_type": "code",
   "execution_count": 11,
   "metadata": {},
   "outputs": [
    {
     "data": {
      "image/png": "[encoded data removed]",
      "text/plain": [
       "<Figure size 432x288 with 1 Axes>"
      ]
     },
     "metadata": {
      "needs_background": "light"
     },
     "output_type": "display_data"
    }
   ],
   "source": [
    "# Histogram of Oil Price\n",
    "a = data['Oil_Price']\n",
    "plt.hist(a, bins=10, density=False, alpha=0.75, histtype='stepfilled', color='gold', edgecolor='black')\n",
    "plt.xlabel('Oil Price')\n",
    "plt.ylabel('Count');"
   ]
  },
  {
   "cell_type": "code",
   "execution_count": 12,
   "metadata": {},
   "outputs": [
    {
     "data": {
      "image/png": "[encoded data removed]",
      "text/plain": [
       "<Figure size 1008x432 with 1 Axes>"
      ]
     },
     "metadata": {
      "needs_background": "light"
     },
     "output_type": "display_data"
    }
   ],
   "source": [
    "# Density Plot of Oil Price\n",
    "plt.figure(figsize = (14,6))\n",
    "plt.title('Price of Oil - Density Plot')\n",
    "sns.set_color_codes(\"pastel\")\n",
    "sns.distplot(data['Oil_Price'], kde=True, bins=10, color=\"blue\")\n",
    "plt.show()"
   ]
  },
  {
   "cell_type": "code",
   "execution_count": 13,
   "metadata": {},
   "outputs": [
    {
     "data": {
      "text/plain": [
       "19.95    2\n",
       "19.66    2\n",
       "19.09    2\n",
       "45.18    2\n",
       "19.90    2\n",
       "Name: Oil_Price, dtype: int64"
      ]
     },
     "execution_count": 13,
     "metadata": {},
     "output_type": "execute_result"
    }
   ],
   "source": [
    "data['Oil_Price'].value_counts().head(5)"
   ]
  },
  {
   "cell_type": "markdown",
   "metadata": {},
   "source": [
    "Oil Price of around $20.00 Per Barrel has the highest count of instances in the dataset."
   ]
  },
  {
   "cell_type": "code",
   "execution_count": 14,
   "metadata": {},
   "outputs": [
    {
     "data": {
      "image/png": "[encoded data removed]",
      "text/plain": [
       "<Figure size 432x288 with 1 Axes>"
      ]
     },
     "metadata": {
      "needs_background": "light"
     },
     "output_type": "display_data"
    }
   ],
   "source": [
    "# Scatter Plot of Oil Price vs Oil Imports\n",
    "data_sample = data.sample(100)\n",
    "\n",
    "x = data_sample['Oil_Imports']\n",
    "y = data_sample['Oil_Price']\n",
    "\n",
    "plt.scatter(x, y, marker='d')\n",
    "plt.xlabel('Oil Imports')\n",
    "plt.ylabel('Oil Price');"
   ]
  },
  {
   "cell_type": "code",
   "execution_count": 15,
   "metadata": {},
   "outputs": [
    {
     "data": {
      "image/png": "[encoded data removed]",
      "text/plain": [
       "<Figure size 432x288 with 1 Axes>"
      ]
     },
     "metadata": {
      "needs_background": "light"
     },
     "output_type": "display_data"
    }
   ],
   "source": [
    "# Scatter Plot of Oil Price vs Oil Exports\n",
    "x = data_sample['Oil_Exports']\n",
    "\n",
    "plt.scatter(x, y, marker='d')\n",
    "plt.xlabel('Oil Exports')\n",
    "plt.ylabel('Oil Price');"
   ]
  },
  {
   "cell_type": "code",
   "execution_count": 16,
   "metadata": {},
   "outputs": [
    {
     "data": {
      "image/png": "[encoded data removed]",
      "text/plain": [
       "<Figure size 432x288 with 1 Axes>"
      ]
     },
     "metadata": {
      "needs_background": "light"
     },
     "output_type": "display_data"
    }
   ],
   "source": [
    "# Scatter Plot of Oil Price vs Rig Count\n",
    "x = data_sample['Rig_Count']\n",
    "\n",
    "plt.scatter(x, y, marker='d')\n",
    "plt.xlabel('Rig Count')\n",
    "plt.ylabel('Oil Price');"
   ]
  },
  {
   "cell_type": "markdown",
   "metadata": {},
   "source": [
    "The Rig Count appears to have some linear relationship with Oil Price, as the number of Rigs in Operation increases the Oil Price increases."
   ]
  },
  {
   "cell_type": "code",
   "execution_count": 17,
   "metadata": {},
   "outputs": [
    {
     "data": {
      "image/png": "[encoded data removed]",
      "text/plain": [
       "<Figure size 432x288 with 1 Axes>"
      ]
     },
     "metadata": {
      "needs_background": "light"
     },
     "output_type": "display_data"
    }
   ],
   "source": [
    "# Scatter Plot of Oil Price vs US Oil Production\n",
    "x = data_sample['U.S._Oil_Production']\n",
    "\n",
    "plt.scatter(x, y, marker='d')\n",
    "plt.xlabel('U.S. Oil Production')\n",
    "plt.ylabel('Oil Price');"
   ]
  },
  {
   "cell_type": "code",
   "execution_count": 18,
   "metadata": {},
   "outputs": [
    {
     "data": {
      "image/png": "[encoded data removed]",
      "text/plain": [
       "<Figure size 432x288 with 1 Axes>"
      ]
     },
     "metadata": {
      "needs_background": "light"
     },
     "output_type": "display_data"
    }
   ],
   "source": [
    "# Scatter Plot of Oil Price vs East Coast Oil Production\n",
    "x = data_sample['EastCoast_Oil_Production']\n",
    "\n",
    "plt.scatter(x, y, marker='d')\n",
    "plt.xlabel('East Coast Oil Production')\n",
    "plt.ylabel('Oil Price');"
   ]
  },
  {
   "cell_type": "code",
   "execution_count": 19,
   "metadata": {},
   "outputs": [
    {
     "data": {
      "image/png": "[encoded data removed]",
      "text/plain": [
       "<Figure size 432x288 with 1 Axes>"
      ]
     },
     "metadata": {
      "needs_background": "light"
     },
     "output_type": "display_data"
    }
   ],
   "source": [
    "# Scatter Plot of Oil Price vs Midwest Oil Production\n",
    "x = data_sample['Midwest_Oil_Production']\n",
    "\n",
    "plt.scatter(x, y, marker='d')\n",
    "plt.xlabel('Midwest Oil Production')\n",
    "plt.ylabel('Oil Price');"
   ]
  },
  {
   "cell_type": "code",
   "execution_count": 20,
   "metadata": {},
   "outputs": [
    {
     "data": {
      "image/png": "[encoded data removed]",
      "text/plain": [
       "<Figure size 432x288 with 1 Axes>"
      ]
     },
     "metadata": {
      "needs_background": "light"
     },
     "output_type": "display_data"
    }
   ],
   "source": [
    "# Scatter Plot of Oil Price vs Gulf Coast Oil Production\n",
    "x = data_sample['GulfCoast_Oil_Production']\n",
    "\n",
    "plt.scatter(x, y, marker='d')\n",
    "plt.xlabel('Gulf Coast Oil Production')\n",
    "plt.ylabel('Oil Price');"
   ]
  },
  {
   "cell_type": "code",
   "execution_count": 21,
   "metadata": {},
   "outputs": [
    {
     "data": {
      "image/png": "[encoded data removed]",
      "text/plain": [
       "<Figure size 432x288 with 1 Axes>"
      ]
     },
     "metadata": {
      "needs_background": "light"
     },
     "output_type": "display_data"
    }
   ],
   "source": [
    "# Scatter Plot of Oil Price vs Rocky Mountain Oil Production\n",
    "x = data_sample['RockyMountain_Oil_Production']\n",
    "\n",
    "plt.scatter(x, y, marker='d')\n",
    "plt.xlabel('Rocky Mountain Oil Production')\n",
    "plt.ylabel('Oil Price');"
   ]
  },
  {
   "cell_type": "code",
   "execution_count": 22,
   "metadata": {},
   "outputs": [
    {
     "data": {
      "image/png": "[encoded data removed]",
      "text/plain": [
       "<Figure size 432x288 with 1 Axes>"
      ]
     },
     "metadata": {
      "needs_background": "light"
     },
     "output_type": "display_data"
    }
   ],
   "source": [
    "# Scatter Plot of Oil Price vs West Coast Oil Production\n",
    "x = data_sample['WestCoast_Oil_Production']\n",
    "\n",
    "plt.scatter(x, y, marker='d')\n",
    "plt.xlabel('West Coast Oil Production')\n",
    "plt.ylabel('Oil Price');"
   ]
  },
  {
   "cell_type": "markdown",
   "metadata": {},
   "source": [
    "This is interesting. It appears that the West Coast Oil Production has a negative relationship with Oil Price, as West Coast Production increases the Oil Price decreases."
   ]
  },
  {
   "cell_type": "markdown",
   "metadata": {},
   "source": [
    "Let's check the attribute Rig Count with the other variables."
   ]
  },
  {
   "cell_type": "code",
   "execution_count": 23,
   "metadata": {},
   "outputs": [
    {
     "data": {
      "text/plain": [
       "(282,)"
      ]
     },
     "execution_count": 23,
     "metadata": {},
     "output_type": "execute_result"
    }
   ],
   "source": [
    "# Check number of distinct values for Rig Count\n",
    "data['Rig_Count'].value_counts().shape"
   ]
  },
  {
   "cell_type": "code",
   "execution_count": 24,
   "metadata": {},
   "outputs": [
    {
     "data": {
      "image/png": "[encoded data removed]",
      "text/plain": [
       "<Figure size 432x288 with 1 Axes>"
      ]
     },
     "metadata": {
      "needs_background": "light"
     },
     "output_type": "display_data"
    }
   ],
   "source": [
    "# Histogram of Rig Count\n",
    "r = data['Rig_Count']\n",
    "plt.hist(r, bins=10, density=False, alpha=0.75, histtype='stepfilled', color='darkblue', edgecolor='none')\n",
    "plt.xlabel('Rig_Count')\n",
    "plt.ylabel('Count');"
   ]
  },
  {
   "cell_type": "code",
   "execution_count": 25,
   "metadata": {},
   "outputs": [
    {
     "data": {
      "image/png": "[encoded data removed]",
      "text/plain": [
       "<Figure size 1008x432 with 1 Axes>"
      ]
     },
     "metadata": {
      "needs_background": "light"
     },
     "output_type": "display_data"
    }
   ],
   "source": [
    "# Density Plot of Rig Count\n",
    "plt.figure(figsize = (14,6))\n",
    "plt.title('Rig Count - Density Plot')\n",
    "sns.set_color_codes(\"pastel\")\n",
    "sns.distplot(data['Rig_Count'], kde=True, bins=10, color=\"blue\")\n",
    "plt.show()"
   ]
  },
  {
   "cell_type": "code",
   "execution_count": 26,
   "metadata": {},
   "outputs": [
    {
     "data": {
      "text/plain": [
       "153    5\n",
       "320    4\n",
       "397    4\n",
       "325    4\n",
       "433    3\n",
       "Name: Rig_Count, dtype: int64"
      ]
     },
     "execution_count": 26,
     "metadata": {},
     "output_type": "execute_result"
    }
   ],
   "source": [
    "data['Rig_Count'].value_counts().head(5)"
   ]
  },
  {
   "cell_type": "code",
   "execution_count": 27,
   "metadata": {},
   "outputs": [
    {
     "data": {
      "image/png": "[encoded data removed]",
      "text/plain": [
       "<Figure size 432x288 with 1 Axes>"
      ]
     },
     "metadata": {
      "needs_background": "light"
     },
     "output_type": "display_data"
    }
   ],
   "source": [
    "# Scatter Plot of Rig Count vs Oil Imports\n",
    "x = data_sample['Oil_Imports']\n",
    "y = data_sample['Rig_Count']\n",
    "\n",
    "plt.scatter(x, y, marker='o')\n",
    "plt.xlabel('Oil Imports')\n",
    "plt.ylabel('Rig Count');"
   ]
  },
  {
   "cell_type": "code",
   "execution_count": 28,
   "metadata": {},
   "outputs": [
    {
     "data": {
      "image/png": "[encoded data removed]",
      "text/plain": [
       "<Figure size 432x288 with 1 Axes>"
      ]
     },
     "metadata": {
      "needs_background": "light"
     },
     "output_type": "display_data"
    }
   ],
   "source": [
    "# Scatter Plot of Rig Count vs Oil Exports\n",
    "x = data_sample['Oil_Exports']\n",
    "\n",
    "plt.scatter(x, y, marker='o')\n",
    "plt.xlabel('Oil Exports')\n",
    "plt.ylabel('Rig Count');"
   ]
  },
  {
   "cell_type": "code",
   "execution_count": 29,
   "metadata": {},
   "outputs": [
    {
     "data": {
      "image/png": "[encoded data removed]",
      "text/plain": [
       "<Figure size 432x288 with 1 Axes>"
      ]
     },
     "metadata": {
      "needs_background": "light"
     },
     "output_type": "display_data"
    }
   ],
   "source": [
    "# Scatter Plot of Rig Count vs US Oil Production\n",
    "x = data_sample['U.S._Oil_Production']\n",
    "\n",
    "plt.scatter(x, y, marker='o')\n",
    "plt.xlabel('U.S. Oil Production')\n",
    "plt.ylabel('Rig Count');"
   ]
  },
  {
   "cell_type": "code",
   "execution_count": 30,
   "metadata": {},
   "outputs": [
    {
     "data": {
      "image/png": "[encoded data removed]",
      "text/plain": [
       "<Figure size 432x288 with 1 Axes>"
      ]
     },
     "metadata": {
      "needs_background": "light"
     },
     "output_type": "display_data"
    }
   ],
   "source": [
    "# Scatter Plot of Rig Count vs East Coast Oil Production\n",
    "x = data_sample['EastCoast_Oil_Production']\n",
    "\n",
    "plt.scatter(x, y, marker='o')\n",
    "plt.xlabel('EastCoast Oil Production')\n",
    "plt.ylabel('Rig Count');"
   ]
  },
  {
   "cell_type": "code",
   "execution_count": 31,
   "metadata": {},
   "outputs": [
    {
     "data": {
      "image/png": "[encoded data removed]",
      "text/plain": [
       "<Figure size 432x288 with 1 Axes>"
      ]
     },
     "metadata": {
      "needs_background": "light"
     },
     "output_type": "display_data"
    }
   ],
   "source": [
    "# Scatter Plot of Rig Count vs Midwest Oil Production\n",
    "x = data_sample['Midwest_Oil_Production']\n",
    "\n",
    "plt.scatter(x, y, marker='o')\n",
    "plt.xlabel('Midwest Oil Production')\n",
    "plt.ylabel('Rig Count');"
   ]
  },
  {
   "cell_type": "code",
   "execution_count": 32,
   "metadata": {},
   "outputs": [
    {
     "data": {
      "image/png": "[encoded data removed]",
      "text/plain": [
       "<Figure size 432x288 with 1 Axes>"
      ]
     },
     "metadata": {
      "needs_background": "light"
     },
     "output_type": "display_data"
    }
   ],
   "source": [
    "# Scatter Plot of Rig Count vs Gulf Coast Oil Production\n",
    "x = data_sample['GulfCoast_Oil_Production']\n",
    "\n",
    "plt.scatter(x, y, marker='o')\n",
    "plt.xlabel('Gulf Coast Oil Production')\n",
    "plt.ylabel('Rig Count');"
   ]
  },
  {
   "cell_type": "code",
   "execution_count": 33,
   "metadata": {},
   "outputs": [
    {
     "data": {
      "image/png": "[encoded data removed]",
      "text/plain": [
       "<Figure size 432x288 with 1 Axes>"
      ]
     },
     "metadata": {
      "needs_background": "light"
     },
     "output_type": "display_data"
    }
   ],
   "source": [
    "# Scatter Plot of Rig Count vs West Coast Oil Production\n",
    "x = data_sample['WestCoast_Oil_Production']\n",
    "\n",
    "plt.scatter(x, y, marker='o')\n",
    "plt.xlabel('West Coast Oil Production')\n",
    "plt.ylabel('Rig Count');"
   ]
  },
  {
   "cell_type": "markdown",
   "metadata": {},
   "source": [
    "It seems as Production increases the Rig Count increases, which is what I would expect, for all but the West Coast Region which actually decreases in Rig Count as Production increases."
   ]
  },
  {
   "cell_type": "code",
   "execution_count": 34,
   "metadata": {},
   "outputs": [
    {
     "data": {
      "image/png": "[encoded data removed]",
      "text/plain": [
       "<Figure size 432x288 with 1 Axes>"
      ]
     },
     "metadata": {
      "needs_background": "light"
     },
     "output_type": "display_data"
    }
   ],
   "source": [
    "# Histogram of West Coast Oil Production\n",
    "w = data['WestCoast_Oil_Production']\n",
    "plt.hist(w, bins=10, density=False, alpha=0.75, histtype='stepfilled', color='darkblue', edgecolor='none')\n",
    "plt.xlabel('West Coast Oil Production')\n",
    "plt.ylabel('Count');"
   ]
  },
  {
   "cell_type": "code",
   "execution_count": 35,
   "metadata": {},
   "outputs": [
    {
     "data": {
      "image/png": "[encoded data removed]",
      "text/plain": [
       "<Figure size 1008x432 with 1 Axes>"
      ]
     },
     "metadata": {
      "needs_background": "light"
     },
     "output_type": "display_data"
    }
   ],
   "source": [
    "# Density Plot of West Coast Oil Production\n",
    "plt.figure(figsize = (14,6))\n",
    "plt.title('West Coast Oil Production - Density Plot')\n",
    "sns.set_color_codes(\"pastel\")\n",
    "sns.distplot(data['WestCoast_Oil_Production'], kde=True, bins=10, color=\"blue\")\n",
    "plt.show()"
   ]
  },
  {
   "cell_type": "code",
   "execution_count": 36,
   "metadata": {},
   "outputs": [
    {
     "data": {
      "image/png": "[encoded data removed]",
      "text/plain": [
       "<Figure size 432x288 with 1 Axes>"
      ]
     },
     "metadata": {
      "needs_background": "light"
     },
     "output_type": "display_data"
    }
   ],
   "source": [
    "# Scatter Plot of West Coast Oil Production vs Oil Imports\n",
    "x = data_sample['Oil_Imports']\n",
    "y = data_sample['WestCoast_Oil_Production']\n",
    "\n",
    "plt.scatter(x, y, marker='+')\n",
    "plt.xlabel('Oil Imports')\n",
    "plt.ylabel('West Coast Oil Production');"
   ]
  },
  {
   "cell_type": "code",
   "execution_count": 37,
   "metadata": {},
   "outputs": [
    {
     "data": {
      "image/png": "[encoded data removed]",
      "text/plain": [
       "<Figure size 432x288 with 1 Axes>"
      ]
     },
     "metadata": {
      "needs_background": "light"
     },
     "output_type": "display_data"
    }
   ],
   "source": [
    "# Scatter Plot of West Coast Oil Production vs Oil Exports\n",
    "x = data_sample['Oil_Exports']\n",
    "\n",
    "plt.scatter(x, y, marker='+')\n",
    "plt.xlabel('Oil Exports')\n",
    "plt.ylabel('West Coast Oil Production');"
   ]
  },
  {
   "cell_type": "code",
   "execution_count": 38,
   "metadata": {},
   "outputs": [
    {
     "data": {
      "image/png": "[encoded data removed]",
      "text/plain": [
       "<Figure size 432x288 with 1 Axes>"
      ]
     },
     "metadata": {
      "needs_background": "light"
     },
     "output_type": "display_data"
    }
   ],
   "source": [
    "# Scatter Plot of West Coast Oil Production vs US Oil Production\n",
    "x = data_sample['U.S._Oil_Production']\n",
    "\n",
    "plt.scatter(x, y, marker='+')\n",
    "plt.xlabel('U.S. Oil Production')\n",
    "plt.ylabel('West Coast Oil Production');"
   ]
  },
  {
   "cell_type": "code",
   "execution_count": 39,
   "metadata": {},
   "outputs": [
    {
     "data": {
      "image/png": "[encoded data removed]",
      "text/plain": [
       "<Figure size 432x288 with 1 Axes>"
      ]
     },
     "metadata": {
      "needs_background": "light"
     },
     "output_type": "display_data"
    }
   ],
   "source": [
    "# Scatter Plot of West Coast Oil Production vs East Coast Oil Production\n",
    "x = data_sample['EastCoast_Oil_Production']\n",
    "\n",
    "plt.scatter(x, y, marker='+')\n",
    "plt.xlabel('East Coast Oil Production')\n",
    "plt.ylabel('West Coast Oil Production');"
   ]
  },
  {
   "cell_type": "code",
   "execution_count": 40,
   "metadata": {},
   "outputs": [
    {
     "data": {
      "image/png": "[encoded data removed]",
      "text/plain": [
       "<Figure size 432x288 with 1 Axes>"
      ]
     },
     "metadata": {
      "needs_background": "light"
     },
     "output_type": "display_data"
    }
   ],
   "source": [
    "# Scatter Plot of West Coast Oil Production vs Gulf Coast Oil Production\n",
    "x = data_sample['GulfCoast_Oil_Production']\n",
    "\n",
    "plt.scatter(x, y, marker='+')\n",
    "plt.xlabel('Gulf Coast Oil Production')\n",
    "plt.ylabel('West Coast Oil Production');"
   ]
  },
  {
   "cell_type": "markdown",
   "metadata": {},
   "source": [
    "It seems that West Coast Oil Production decreases when U.S. Oil Imports and Production increases."
   ]
  },
  {
   "cell_type": "code",
   "execution_count": 41,
   "metadata": {},
   "outputs": [
    {
     "data": {
      "image/png": "[encoded data removed]",
      "text/plain": [
       "<Figure size 432x288 with 1 Axes>"
      ]
     },
     "metadata": {
      "needs_background": "light"
     },
     "output_type": "display_data"
    }
   ],
   "source": [
    "# Histogram of US Oil Imports\n",
    "w = data['Oil_Imports']\n",
    "plt.hist(w, bins=10, density=False, alpha=0.75, histtype='stepfilled', color='darkblue', edgecolor='none')\n",
    "plt.xlabel('U.S. Oil Imports')\n",
    "plt.ylabel('Count');"
   ]
  },
  {
   "cell_type": "code",
   "execution_count": 42,
   "metadata": {},
   "outputs": [
    {
     "data": {
      "image/png": "[encoded data removed]",
      "text/plain": [
       "<Figure size 432x288 with 1 Axes>"
      ]
     },
     "metadata": {
      "needs_background": "light"
     },
     "output_type": "display_data"
    }
   ],
   "source": [
    "# Histogram of US Oil Exports\n",
    "w = data['Oil_Exports']\n",
    "plt.hist(w, bins=10, density=False, alpha=0.75, histtype='stepfilled', color='darkblue', edgecolor='none')\n",
    "plt.xlabel('U.S. Oil Exports')\n",
    "plt.ylabel('Count');"
   ]
  },
  {
   "cell_type": "code",
   "execution_count": 43,
   "metadata": {},
   "outputs": [
    {
     "data": {
      "image/png": "[encoded data removed]",
      "text/plain": [
       "<Figure size 432x288 with 1 Axes>"
      ]
     },
     "metadata": {
      "needs_background": "light"
     },
     "output_type": "display_data"
    }
   ],
   "source": [
    "# Histogram of US Oil Production\n",
    "w = data['U.S._Oil_Production']\n",
    "plt.hist(w, bins=10, density=False, alpha=0.75, histtype='stepfilled', color='darkblue', edgecolor='none')\n",
    "plt.xlabel('U.S. Oil Production')\n",
    "plt.ylabel('Count');"
   ]
  },
  {
   "cell_type": "markdown",
   "metadata": {},
   "source": [
    "I will have to scale the data for the SV and MLP Regression Models. I'm curious to see which regions account for the highest and lowest percentage of US Production. "
   ]
  },
  {
   "cell_type": "code",
   "execution_count": 44,
   "metadata": {},
   "outputs": [
    {
     "name": "stdout",
     "output_type": "stream",
     "text": [
      "0.004423569733511808\n"
     ]
    }
   ],
   "source": [
    "X = data['EastCoast_Oil_Production'].sum()\n",
    "y = data['U.S._Oil_Production'].sum()\n",
    "perc = X / y\n",
    "print(perc)"
   ]
  },
  {
   "cell_type": "code",
   "execution_count": 45,
   "metadata": {},
   "outputs": [
    {
     "name": "stdout",
     "output_type": "stream",
     "text": [
      "0.12805687503208205\n"
     ]
    }
   ],
   "source": [
    "X = data['Midwest_Oil_Production'].sum()\n",
    "y = data['U.S._Oil_Production'].sum()\n",
    "perc = X / y\n",
    "print(perc)"
   ]
  },
  {
   "cell_type": "code",
   "execution_count": 46,
   "metadata": {},
   "outputs": [
    {
     "name": "stdout",
     "output_type": "stream",
     "text": [
      "0.5591529552983728\n"
     ]
    }
   ],
   "source": [
    "X = data['GulfCoast_Oil_Production'].sum()\n",
    "y = data['U.S._Oil_Production'].sum()\n",
    "perc = X / y\n",
    "print(perc)"
   ]
  },
  {
   "cell_type": "code",
   "execution_count": 47,
   "metadata": {},
   "outputs": [
    {
     "name": "stdout",
     "output_type": "stream",
     "text": [
      "0.06679657423091959\n"
     ]
    }
   ],
   "source": [
    "X = data['RockyMountain_Oil_Production'].sum()\n",
    "y = data['U.S._Oil_Production'].sum()\n",
    "perc = X / y\n",
    "print(perc)"
   ]
  },
  {
   "cell_type": "code",
   "execution_count": 48,
   "metadata": {},
   "outputs": [
    {
     "name": "stdout",
     "output_type": "stream",
     "text": [
      "0.24157121027256898\n"
     ]
    }
   ],
   "source": [
    "X = data['WestCoast_Oil_Production'].sum()\n",
    "y = data['U.S._Oil_Production'].sum()\n",
    "perc = X / y\n",
    "print(perc)"
   ]
  },
  {
   "cell_type": "markdown",
   "metadata": {},
   "source": [
    "The Gulf Coast Region by far has the highest percentage of U.S. Oil Production, accounting for 56% of the total production. The Gulf Coast and West Coast Regions account for 80% of the total U.S. Oil Production. The East Coast has the lowest percentage, accounting for less than 1% of the total production."
   ]
  },
  {
   "cell_type": "code",
   "execution_count": 49,
   "metadata": {},
   "outputs": [
    {
     "data": {
      "text/html": [
       "<div>\n",
       "<style scoped>\n",
       "    .dataframe tbody tr th:only-of-type {\n",
       "        vertical-align: middle;\n",
       "    }\n",
       "\n",
       "    .dataframe tbody tr th {\n",
       "        vertical-align: top;\n",
       "    }\n",
       "\n",
       "    .dataframe thead th {\n",
       "        text-align: right;\n",
       "    }\n",
       "</style>\n",
       "<table border=\"1\" class=\"dataframe\">\n",
       "  <thead>\n",
       "    <tr style=\"text-align: right;\">\n",
       "      <th></th>\n",
       "      <th>Oil_Price</th>\n",
       "      <th>Oil_Imports</th>\n",
       "      <th>Oil_Exports</th>\n",
       "      <th>Rig_Count</th>\n",
       "      <th>U.S._Oil_Production</th>\n",
       "      <th>EastCoast_Oil_Production</th>\n",
       "      <th>Midwest_Oil_Production</th>\n",
       "      <th>GulfCoast_Oil_Production</th>\n",
       "      <th>RockyMountain_Oil_Production</th>\n",
       "      <th>WestCoast_Oil_Production</th>\n",
       "    </tr>\n",
       "  </thead>\n",
       "  <tbody>\n",
       "    <tr>\n",
       "      <th>Oil_Price</th>\n",
       "      <td>1.000000</td>\n",
       "      <td>0.300876</td>\n",
       "      <td>0.081131</td>\n",
       "      <td>0.645806</td>\n",
       "      <td>0.019949</td>\n",
       "      <td>0.138084</td>\n",
       "      <td>0.337257</td>\n",
       "      <td>0.169090</td>\n",
       "      <td>0.223246</td>\n",
       "      <td>-0.726984</td>\n",
       "    </tr>\n",
       "    <tr>\n",
       "      <th>Oil_Imports</th>\n",
       "      <td>0.300876</td>\n",
       "      <td>1.000000</td>\n",
       "      <td>-0.325868</td>\n",
       "      <td>-0.290850</td>\n",
       "      <td>-0.590451</td>\n",
       "      <td>-0.494174</td>\n",
       "      <td>-0.408121</td>\n",
       "      <td>-0.390281</td>\n",
       "      <td>-0.498985</td>\n",
       "      <td>-0.379709</td>\n",
       "    </tr>\n",
       "    <tr>\n",
       "      <th>Oil_Exports</th>\n",
       "      <td>0.081131</td>\n",
       "      <td>-0.325868</td>\n",
       "      <td>1.000000</td>\n",
       "      <td>0.259742</td>\n",
       "      <td>0.867794</td>\n",
       "      <td>0.811246</td>\n",
       "      <td>0.770525</td>\n",
       "      <td>0.911947</td>\n",
       "      <td>0.849272</td>\n",
       "      <td>-0.438754</td>\n",
       "    </tr>\n",
       "    <tr>\n",
       "      <th>Rig_Count</th>\n",
       "      <td>0.645806</td>\n",
       "      <td>-0.290850</td>\n",
       "      <td>0.259742</td>\n",
       "      <td>1.000000</td>\n",
       "      <td>0.465431</td>\n",
       "      <td>0.533553</td>\n",
       "      <td>0.667703</td>\n",
       "      <td>0.474204</td>\n",
       "      <td>0.544584</td>\n",
       "      <td>-0.470431</td>\n",
       "    </tr>\n",
       "    <tr>\n",
       "      <th>U.S._Oil_Production</th>\n",
       "      <td>0.019949</td>\n",
       "      <td>-0.590451</td>\n",
       "      <td>0.867794</td>\n",
       "      <td>0.465431</td>\n",
       "      <td>1.000000</td>\n",
       "      <td>0.953711</td>\n",
       "      <td>0.920202</td>\n",
       "      <td>0.963175</td>\n",
       "      <td>0.960199</td>\n",
       "      <td>-0.324072</td>\n",
       "    </tr>\n",
       "    <tr>\n",
       "      <th>EastCoast_Oil_Production</th>\n",
       "      <td>0.138084</td>\n",
       "      <td>-0.494174</td>\n",
       "      <td>0.811246</td>\n",
       "      <td>0.533553</td>\n",
       "      <td>0.953711</td>\n",
       "      <td>1.000000</td>\n",
       "      <td>0.939823</td>\n",
       "      <td>0.939674</td>\n",
       "      <td>0.946852</td>\n",
       "      <td>-0.429356</td>\n",
       "    </tr>\n",
       "    <tr>\n",
       "      <th>Midwest_Oil_Production</th>\n",
       "      <td>0.337257</td>\n",
       "      <td>-0.408121</td>\n",
       "      <td>0.770525</td>\n",
       "      <td>0.667703</td>\n",
       "      <td>0.920202</td>\n",
       "      <td>0.939823</td>\n",
       "      <td>1.000000</td>\n",
       "      <td>0.944143</td>\n",
       "      <td>0.962669</td>\n",
       "      <td>-0.605206</td>\n",
       "    </tr>\n",
       "    <tr>\n",
       "      <th>GulfCoast_Oil_Production</th>\n",
       "      <td>0.169090</td>\n",
       "      <td>-0.390281</td>\n",
       "      <td>0.911947</td>\n",
       "      <td>0.474204</td>\n",
       "      <td>0.963175</td>\n",
       "      <td>0.939674</td>\n",
       "      <td>0.944143</td>\n",
       "      <td>1.000000</td>\n",
       "      <td>0.951945</td>\n",
       "      <td>-0.546096</td>\n",
       "    </tr>\n",
       "    <tr>\n",
       "      <th>RockyMountain_Oil_Production</th>\n",
       "      <td>0.223246</td>\n",
       "      <td>-0.498985</td>\n",
       "      <td>0.849272</td>\n",
       "      <td>0.544584</td>\n",
       "      <td>0.960199</td>\n",
       "      <td>0.946852</td>\n",
       "      <td>0.962669</td>\n",
       "      <td>0.951945</td>\n",
       "      <td>1.000000</td>\n",
       "      <td>-0.474619</td>\n",
       "    </tr>\n",
       "    <tr>\n",
       "      <th>WestCoast_Oil_Production</th>\n",
       "      <td>-0.726984</td>\n",
       "      <td>-0.379709</td>\n",
       "      <td>-0.438754</td>\n",
       "      <td>-0.470431</td>\n",
       "      <td>-0.324072</td>\n",
       "      <td>-0.429356</td>\n",
       "      <td>-0.605206</td>\n",
       "      <td>-0.546096</td>\n",
       "      <td>-0.474619</td>\n",
       "      <td>1.000000</td>\n",
       "    </tr>\n",
       "  </tbody>\n",
       "</table>\n",
       "</div>"
      ],
      "text/plain": [
       "                              Oil_Price  Oil_Imports  Oil_Exports  Rig_Count  \\\n",
       "Oil_Price                      1.000000     0.300876     0.081131   0.645806   \n",
       "Oil_Imports                    0.300876     1.000000    -0.325868  -0.290850   \n",
       "Oil_Exports                    0.081131    -0.325868     1.000000   0.259742   \n",
       "Rig_Count                      0.645806    -0.290850     0.259742   1.000000   \n",
       "U.S._Oil_Production            0.019949    -0.590451     0.867794   0.465431   \n",
       "EastCoast_Oil_Production       0.138084    -0.494174     0.811246   0.533553   \n",
       "Midwest_Oil_Production         0.337257    -0.408121     0.770525   0.667703   \n",
       "GulfCoast_Oil_Production       0.169090    -0.390281     0.911947   0.474204   \n",
       "RockyMountain_Oil_Production   0.223246    -0.498985     0.849272   0.544584   \n",
       "WestCoast_Oil_Production      -0.726984    -0.379709    -0.438754  -0.470431   \n",
       "\n",
       "                              U.S._Oil_Production  EastCoast_Oil_Production  \\\n",
       "Oil_Price                                0.019949                  0.138084   \n",
       "Oil_Imports                             -0.590451                 -0.494174   \n",
       "Oil_Exports                              0.867794                  0.811246   \n",
       "Rig_Count                                0.465431                  0.533553   \n",
       "U.S._Oil_Production                      1.000000                  0.953711   \n",
       "EastCoast_Oil_Production                 0.953711                  1.000000   \n",
       "Midwest_Oil_Production                   0.920202                  0.939823   \n",
       "GulfCoast_Oil_Production                 0.963175                  0.939674   \n",
       "RockyMountain_Oil_Production             0.960199                  0.946852   \n",
       "WestCoast_Oil_Production                -0.324072                 -0.429356   \n",
       "\n",
       "                              Midwest_Oil_Production  \\\n",
       "Oil_Price                                   0.337257   \n",
       "Oil_Imports                                -0.408121   \n",
       "Oil_Exports                                 0.770525   \n",
       "Rig_Count                                   0.667703   \n",
       "U.S._Oil_Production                         0.920202   \n",
       "EastCoast_Oil_Production                    0.939823   \n",
       "Midwest_Oil_Production                      1.000000   \n",
       "GulfCoast_Oil_Production                    0.944143   \n",
       "RockyMountain_Oil_Production                0.962669   \n",
       "WestCoast_Oil_Production                   -0.605206   \n",
       "\n",
       "                              GulfCoast_Oil_Production  \\\n",
       "Oil_Price                                     0.169090   \n",
       "Oil_Imports                                  -0.390281   \n",
       "Oil_Exports                                   0.911947   \n",
       "Rig_Count                                     0.474204   \n",
       "U.S._Oil_Production                           0.963175   \n",
       "EastCoast_Oil_Production                      0.939674   \n",
       "Midwest_Oil_Production                        0.944143   \n",
       "GulfCoast_Oil_Production                      1.000000   \n",
       "RockyMountain_Oil_Production                  0.951945   \n",
       "WestCoast_Oil_Production                     -0.546096   \n",
       "\n",
       "                              RockyMountain_Oil_Production  \\\n",
       "Oil_Price                                         0.223246   \n",
       "Oil_Imports                                      -0.498985   \n",
       "Oil_Exports                                       0.849272   \n",
       "Rig_Count                                         0.544584   \n",
       "U.S._Oil_Production                               0.960199   \n",
       "EastCoast_Oil_Production                          0.946852   \n",
       "Midwest_Oil_Production                            0.962669   \n",
       "GulfCoast_Oil_Production                          0.951945   \n",
       "RockyMountain_Oil_Production                      1.000000   \n",
       "WestCoast_Oil_Production                         -0.474619   \n",
       "\n",
       "                              WestCoast_Oil_Production  \n",
       "Oil_Price                                    -0.726984  \n",
       "Oil_Imports                                  -0.379709  \n",
       "Oil_Exports                                  -0.438754  \n",
       "Rig_Count                                    -0.470431  \n",
       "U.S._Oil_Production                          -0.324072  \n",
       "EastCoast_Oil_Production                     -0.429356  \n",
       "Midwest_Oil_Production                       -0.605206  \n",
       "GulfCoast_Oil_Production                     -0.546096  \n",
       "RockyMountain_Oil_Production                 -0.474619  \n",
       "WestCoast_Oil_Production                      1.000000  "
      ]
     },
     "execution_count": 49,
     "metadata": {},
     "output_type": "execute_result"
    }
   ],
   "source": [
    "# Check the correlations of the variables\n",
    "data.corr()"
   ]
  },
  {
   "cell_type": "markdown",
   "metadata": {},
   "source": [
    "The variables West Coast Oil Production and Rig Count have the highest correlation with Oil Price in the dataset. U.S. Oil Production and Oil Exports have the lowest correlation with Oil Price in the dataset."
   ]
  },
  {
   "cell_type": "code",
   "execution_count": 50,
   "metadata": {},
   "outputs": [
    {
     "data": {
      "text/html": [
       "<div>\n",
       "<style scoped>\n",
       "    .dataframe tbody tr th:only-of-type {\n",
       "        vertical-align: middle;\n",
       "    }\n",
       "\n",
       "    .dataframe tbody tr th {\n",
       "        vertical-align: top;\n",
       "    }\n",
       "\n",
       "    .dataframe thead th {\n",
       "        text-align: right;\n",
       "    }\n",
       "</style>\n",
       "<table border=\"1\" class=\"dataframe\">\n",
       "  <thead>\n",
       "    <tr style=\"text-align: right;\">\n",
       "      <th></th>\n",
       "      <th>Oil_Price</th>\n",
       "      <th>Oil_Imports</th>\n",
       "      <th>Oil_Exports</th>\n",
       "      <th>Rig_Count</th>\n",
       "      <th>U.S._Oil_Production</th>\n",
       "      <th>EastCoast_Oil_Production</th>\n",
       "      <th>Midwest_Oil_Production</th>\n",
       "      <th>GulfCoast_Oil_Production</th>\n",
       "      <th>RockyMountain_Oil_Production</th>\n",
       "      <th>WestCoast_Oil_Production</th>\n",
       "    </tr>\n",
       "  </thead>\n",
       "  <tbody>\n",
       "    <tr>\n",
       "      <th>Oil_Price</th>\n",
       "      <td>847.283060</td>\n",
       "      <td>3.712482e+05</td>\n",
       "      <td>5.291918e+04</td>\n",
       "      <td>7.121745e+03</td>\n",
       "      <td>1.094595e+03</td>\n",
       "      <td>59.328547</td>\n",
       "      <td>5.571382e+03</td>\n",
       "      <td>6.976734e+03</td>\n",
       "      <td>1.205338e+03</td>\n",
       "      <td>-1.271846e+04</td>\n",
       "    </tr>\n",
       "    <tr>\n",
       "      <th>Oil_Imports</th>\n",
       "      <td>371248.205610</td>\n",
       "      <td>1.796899e+09</td>\n",
       "      <td>-3.095388e+08</td>\n",
       "      <td>-4.670901e+06</td>\n",
       "      <td>-4.718004e+07</td>\n",
       "      <td>-309206.537716</td>\n",
       "      <td>-9.818344e+06</td>\n",
       "      <td>-2.345086e+07</td>\n",
       "      <td>-3.923388e+06</td>\n",
       "      <td>-9.674046e+06</td>\n",
       "    </tr>\n",
       "    <tr>\n",
       "      <th>Oil_Exports</th>\n",
       "      <td>52919.180361</td>\n",
       "      <td>-3.095388e+08</td>\n",
       "      <td>5.021382e+08</td>\n",
       "      <td>2.205080e+06</td>\n",
       "      <td>3.665565e+07</td>\n",
       "      <td>268331.021444</td>\n",
       "      <td>9.799095e+06</td>\n",
       "      <td>2.896684e+07</td>\n",
       "      <td>3.529960e+06</td>\n",
       "      <td>-5.909199e+06</td>\n",
       "    </tr>\n",
       "    <tr>\n",
       "      <th>Rig_Count</th>\n",
       "      <td>7121.744619</td>\n",
       "      <td>-4.670901e+06</td>\n",
       "      <td>2.205080e+06</td>\n",
       "      <td>1.435292e+05</td>\n",
       "      <td>3.323824e+05</td>\n",
       "      <td>2983.695657</td>\n",
       "      <td>1.435625e+05</td>\n",
       "      <td>2.546572e+05</td>\n",
       "      <td>3.826897e+04</td>\n",
       "      <td>-1.071178e+05</td>\n",
       "    </tr>\n",
       "    <tr>\n",
       "      <th>U.S._Oil_Production</th>\n",
       "      <td>1094.595422</td>\n",
       "      <td>-4.718004e+07</td>\n",
       "      <td>3.665565e+07</td>\n",
       "      <td>3.323824e+05</td>\n",
       "      <td>3.553245e+06</td>\n",
       "      <td>26536.031236</td>\n",
       "      <td>9.844270e+05</td>\n",
       "      <td>2.573582e+06</td>\n",
       "      <td>3.357263e+05</td>\n",
       "      <td>-3.671552e+05</td>\n",
       "    </tr>\n",
       "    <tr>\n",
       "      <th>EastCoast_Oil_Production</th>\n",
       "      <td>59.328547</td>\n",
       "      <td>-3.092065e+05</td>\n",
       "      <td>2.683310e+05</td>\n",
       "      <td>2.983696e+03</td>\n",
       "      <td>2.653603e+04</td>\n",
       "      <td>217.878112</td>\n",
       "      <td>7.873003e+03</td>\n",
       "      <td>1.966094e+04</td>\n",
       "      <td>2.592390e+03</td>\n",
       "      <td>-3.809074e+03</td>\n",
       "    </tr>\n",
       "    <tr>\n",
       "      <th>Midwest_Oil_Production</th>\n",
       "      <td>5571.381583</td>\n",
       "      <td>-9.818344e+06</td>\n",
       "      <td>9.799095e+06</td>\n",
       "      <td>1.435625e+05</td>\n",
       "      <td>9.844270e+05</td>\n",
       "      <td>7873.003357</td>\n",
       "      <td>3.220884e+05</td>\n",
       "      <td>7.595306e+05</td>\n",
       "      <td>1.013388e+05</td>\n",
       "      <td>-2.064365e+05</td>\n",
       "    </tr>\n",
       "    <tr>\n",
       "      <th>GulfCoast_Oil_Production</th>\n",
       "      <td>6976.733612</td>\n",
       "      <td>-2.345086e+07</td>\n",
       "      <td>2.896684e+07</td>\n",
       "      <td>2.546572e+05</td>\n",
       "      <td>2.573582e+06</td>\n",
       "      <td>19660.940863</td>\n",
       "      <td>7.595306e+05</td>\n",
       "      <td>2.009279e+06</td>\n",
       "      <td>2.502900e+05</td>\n",
       "      <td>-4.652477e+05</td>\n",
       "    </tr>\n",
       "    <tr>\n",
       "      <th>RockyMountain_Oil_Production</th>\n",
       "      <td>1205.337566</td>\n",
       "      <td>-3.923388e+06</td>\n",
       "      <td>3.529960e+06</td>\n",
       "      <td>3.826897e+04</td>\n",
       "      <td>3.357263e+05</td>\n",
       "      <td>2592.389500</td>\n",
       "      <td>1.013388e+05</td>\n",
       "      <td>2.502900e+05</td>\n",
       "      <td>3.440512e+04</td>\n",
       "      <td>-5.291176e+04</td>\n",
       "    </tr>\n",
       "    <tr>\n",
       "      <th>WestCoast_Oil_Production</th>\n",
       "      <td>-12718.459150</td>\n",
       "      <td>-9.674046e+06</td>\n",
       "      <td>-5.909199e+06</td>\n",
       "      <td>-1.071178e+05</td>\n",
       "      <td>-3.671552e+05</td>\n",
       "      <td>-3809.073672</td>\n",
       "      <td>-2.064365e+05</td>\n",
       "      <td>-4.652477e+05</td>\n",
       "      <td>-5.291176e+04</td>\n",
       "      <td>3.612360e+05</td>\n",
       "    </tr>\n",
       "  </tbody>\n",
       "</table>\n",
       "</div>"
      ],
      "text/plain": [
       "                                  Oil_Price   Oil_Imports   Oil_Exports  \\\n",
       "Oil_Price                        847.283060  3.712482e+05  5.291918e+04   \n",
       "Oil_Imports                   371248.205610  1.796899e+09 -3.095388e+08   \n",
       "Oil_Exports                    52919.180361 -3.095388e+08  5.021382e+08   \n",
       "Rig_Count                       7121.744619 -4.670901e+06  2.205080e+06   \n",
       "U.S._Oil_Production             1094.595422 -4.718004e+07  3.665565e+07   \n",
       "EastCoast_Oil_Production          59.328547 -3.092065e+05  2.683310e+05   \n",
       "Midwest_Oil_Production          5571.381583 -9.818344e+06  9.799095e+06   \n",
       "GulfCoast_Oil_Production        6976.733612 -2.345086e+07  2.896684e+07   \n",
       "RockyMountain_Oil_Production    1205.337566 -3.923388e+06  3.529960e+06   \n",
       "WestCoast_Oil_Production      -12718.459150 -9.674046e+06 -5.909199e+06   \n",
       "\n",
       "                                 Rig_Count  U.S._Oil_Production  \\\n",
       "Oil_Price                     7.121745e+03         1.094595e+03   \n",
       "Oil_Imports                  -4.670901e+06        -4.718004e+07   \n",
       "Oil_Exports                   2.205080e+06         3.665565e+07   \n",
       "Rig_Count                     1.435292e+05         3.323824e+05   \n",
       "U.S._Oil_Production           3.323824e+05         3.553245e+06   \n",
       "EastCoast_Oil_Production      2.983696e+03         2.653603e+04   \n",
       "Midwest_Oil_Production        1.435625e+05         9.844270e+05   \n",
       "GulfCoast_Oil_Production      2.546572e+05         2.573582e+06   \n",
       "RockyMountain_Oil_Production  3.826897e+04         3.357263e+05   \n",
       "WestCoast_Oil_Production     -1.071178e+05        -3.671552e+05   \n",
       "\n",
       "                              EastCoast_Oil_Production  \\\n",
       "Oil_Price                                    59.328547   \n",
       "Oil_Imports                             -309206.537716   \n",
       "Oil_Exports                              268331.021444   \n",
       "Rig_Count                                  2983.695657   \n",
       "U.S._Oil_Production                       26536.031236   \n",
       "EastCoast_Oil_Production                    217.878112   \n",
       "Midwest_Oil_Production                     7873.003357   \n",
       "GulfCoast_Oil_Production                  19660.940863   \n",
       "RockyMountain_Oil_Production               2592.389500   \n",
       "WestCoast_Oil_Production                  -3809.073672   \n",
       "\n",
       "                              Midwest_Oil_Production  \\\n",
       "Oil_Price                               5.571382e+03   \n",
       "Oil_Imports                            -9.818344e+06   \n",
       "Oil_Exports                             9.799095e+06   \n",
       "Rig_Count                               1.435625e+05   \n",
       "U.S._Oil_Production                     9.844270e+05   \n",
       "EastCoast_Oil_Production                7.873003e+03   \n",
       "Midwest_Oil_Production                  3.220884e+05   \n",
       "GulfCoast_Oil_Production                7.595306e+05   \n",
       "RockyMountain_Oil_Production            1.013388e+05   \n",
       "WestCoast_Oil_Production               -2.064365e+05   \n",
       "\n",
       "                              GulfCoast_Oil_Production  \\\n",
       "Oil_Price                                 6.976734e+03   \n",
       "Oil_Imports                              -2.345086e+07   \n",
       "Oil_Exports                               2.896684e+07   \n",
       "Rig_Count                                 2.546572e+05   \n",
       "U.S._Oil_Production                       2.573582e+06   \n",
       "EastCoast_Oil_Production                  1.966094e+04   \n",
       "Midwest_Oil_Production                    7.595306e+05   \n",
       "GulfCoast_Oil_Production                  2.009279e+06   \n",
       "RockyMountain_Oil_Production              2.502900e+05   \n",
       "WestCoast_Oil_Production                 -4.652477e+05   \n",
       "\n",
       "                              RockyMountain_Oil_Production  \\\n",
       "Oil_Price                                     1.205338e+03   \n",
       "Oil_Imports                                  -3.923388e+06   \n",
       "Oil_Exports                                   3.529960e+06   \n",
       "Rig_Count                                     3.826897e+04   \n",
       "U.S._Oil_Production                           3.357263e+05   \n",
       "EastCoast_Oil_Production                      2.592390e+03   \n",
       "Midwest_Oil_Production                        1.013388e+05   \n",
       "GulfCoast_Oil_Production                      2.502900e+05   \n",
       "RockyMountain_Oil_Production                  3.440512e+04   \n",
       "WestCoast_Oil_Production                     -5.291176e+04   \n",
       "\n",
       "                              WestCoast_Oil_Production  \n",
       "Oil_Price                                -1.271846e+04  \n",
       "Oil_Imports                              -9.674046e+06  \n",
       "Oil_Exports                              -5.909199e+06  \n",
       "Rig_Count                                -1.071178e+05  \n",
       "U.S._Oil_Production                      -3.671552e+05  \n",
       "EastCoast_Oil_Production                 -3.809074e+03  \n",
       "Midwest_Oil_Production                   -2.064365e+05  \n",
       "GulfCoast_Oil_Production                 -4.652477e+05  \n",
       "RockyMountain_Oil_Production             -5.291176e+04  \n",
       "WestCoast_Oil_Production                  3.612360e+05  "
      ]
     },
     "execution_count": 50,
     "metadata": {},
     "output_type": "execute_result"
    }
   ],
   "source": [
    "# Check the covariance of the variables\n",
    "data.cov()"
   ]
  },
  {
   "cell_type": "markdown",
   "metadata": {},
   "source": [
    "West Coast Production has the only negative covariance with Oil Price in the dataset, as Oil Price increases West Coast Production decreases and vice versa. Interesting Note, West Coast Production has a negative covariance with every other variable in the dataset."
   ]
  },
  {
   "cell_type": "code",
   "execution_count": 51,
   "metadata": {},
   "outputs": [
    {
     "data": {
      "text/plain": [
       "Oil_Price                       8.472831e+02\n",
       "Oil_Imports                     1.796899e+09\n",
       "Oil_Exports                     5.021382e+08\n",
       "Rig_Count                       1.435292e+05\n",
       "U.S._Oil_Production             3.553245e+06\n",
       "EastCoast_Oil_Production        2.178781e+02\n",
       "Midwest_Oil_Production          3.220884e+05\n",
       "GulfCoast_Oil_Production        2.009279e+06\n",
       "RockyMountain_Oil_Production    3.440512e+04\n",
       "WestCoast_Oil_Production        3.612360e+05\n",
       "dtype: float64"
      ]
     },
     "execution_count": 51,
     "metadata": {},
     "output_type": "execute_result"
    }
   ],
   "source": [
    "# Check the variance of the variables\n",
    "data.var()"
   ]
  },
  {
   "cell_type": "markdown",
   "metadata": {},
   "source": [
    "As expected, the variance for these continuous variables is large. Scaling the data will help."
   ]
  },
  {
   "cell_type": "code",
   "execution_count": 52,
   "metadata": {},
   "outputs": [
    {
     "data": {
      "text/html": [
       "<div>\n",
       "<style scoped>\n",
       "    .dataframe tbody tr th:only-of-type {\n",
       "        vertical-align: middle;\n",
       "    }\n",
       "\n",
       "    .dataframe tbody tr th {\n",
       "        vertical-align: top;\n",
       "    }\n",
       "\n",
       "    .dataframe thead th {\n",
       "        text-align: right;\n",
       "    }\n",
       "</style>\n",
       "<table border=\"1\" class=\"dataframe\">\n",
       "  <thead>\n",
       "    <tr style=\"text-align: right;\">\n",
       "      <th></th>\n",
       "      <th>Oil_Price</th>\n",
       "      <th>Oil_Imports</th>\n",
       "      <th>Oil_Exports</th>\n",
       "      <th>Rig_Count</th>\n",
       "      <th>U.S._Oil_Production</th>\n",
       "      <th>EastCoast_Oil_Production</th>\n",
       "      <th>Midwest_Oil_Production</th>\n",
       "      <th>GulfCoast_Oil_Production</th>\n",
       "      <th>RockyMountain_Oil_Production</th>\n",
       "      <th>WestCoast_Oil_Production</th>\n",
       "      <th>Oil_Price_Disc</th>\n",
       "    </tr>\n",
       "  </thead>\n",
       "  <tbody>\n",
       "    <tr>\n",
       "      <th>0</th>\n",
       "      <td>22.86</td>\n",
       "      <td>192572</td>\n",
       "      <td>4084</td>\n",
       "      <td>514</td>\n",
       "      <td>7546</td>\n",
       "      <td>35</td>\n",
       "      <td>785</td>\n",
       "      <td>3374</td>\n",
       "      <td>505</td>\n",
       "      <td>2847</td>\n",
       "      <td>Low</td>\n",
       "    </tr>\n",
       "    <tr>\n",
       "      <th>1</th>\n",
       "      <td>22.11</td>\n",
       "      <td>165046</td>\n",
       "      <td>2843</td>\n",
       "      <td>492</td>\n",
       "      <td>7497</td>\n",
       "      <td>35</td>\n",
       "      <td>744</td>\n",
       "      <td>3401</td>\n",
       "      <td>508</td>\n",
       "      <td>2809</td>\n",
       "      <td>Low</td>\n",
       "    </tr>\n",
       "    <tr>\n",
       "      <th>2</th>\n",
       "      <td>20.39</td>\n",
       "      <td>189625</td>\n",
       "      <td>4104</td>\n",
       "      <td>478</td>\n",
       "      <td>7433</td>\n",
       "      <td>31</td>\n",
       "      <td>745</td>\n",
       "      <td>3348</td>\n",
       "      <td>508</td>\n",
       "      <td>2801</td>\n",
       "      <td>Low</td>\n",
       "    </tr>\n",
       "    <tr>\n",
       "      <th>3</th>\n",
       "      <td>18.43</td>\n",
       "      <td>174393</td>\n",
       "      <td>3338</td>\n",
       "      <td>484</td>\n",
       "      <td>7407</td>\n",
       "      <td>32</td>\n",
       "      <td>736</td>\n",
       "      <td>3354</td>\n",
       "      <td>502</td>\n",
       "      <td>2783</td>\n",
       "      <td>Low</td>\n",
       "    </tr>\n",
       "    <tr>\n",
       "      <th>4</th>\n",
       "      <td>18.20</td>\n",
       "      <td>200067</td>\n",
       "      <td>3474</td>\n",
       "      <td>493</td>\n",
       "      <td>7328</td>\n",
       "      <td>31</td>\n",
       "      <td>737</td>\n",
       "      <td>3310</td>\n",
       "      <td>506</td>\n",
       "      <td>2744</td>\n",
       "      <td>Low</td>\n",
       "    </tr>\n",
       "  </tbody>\n",
       "</table>\n",
       "</div>"
      ],
      "text/plain": [
       "   Oil_Price  Oil_Imports  Oil_Exports  Rig_Count  U.S._Oil_Production  \\\n",
       "0      22.86       192572         4084        514                 7546   \n",
       "1      22.11       165046         2843        492                 7497   \n",
       "2      20.39       189625         4104        478                 7433   \n",
       "3      18.43       174393         3338        484                 7407   \n",
       "4      18.20       200067         3474        493                 7328   \n",
       "\n",
       "   EastCoast_Oil_Production  Midwest_Oil_Production  GulfCoast_Oil_Production  \\\n",
       "0                        35                     785                      3374   \n",
       "1                        35                     744                      3401   \n",
       "2                        31                     745                      3348   \n",
       "3                        32                     736                      3354   \n",
       "4                        31                     737                      3310   \n",
       "\n",
       "   RockyMountain_Oil_Production  WestCoast_Oil_Production Oil_Price_Disc  \n",
       "0                           505                      2847            Low  \n",
       "1                           508                      2809            Low  \n",
       "2                           508                      2801            Low  \n",
       "3                           502                      2783            Low  \n",
       "4                           506                      2744            Low  "
      ]
     },
     "execution_count": 52,
     "metadata": {},
     "output_type": "execute_result"
    }
   ],
   "source": [
    "# Discretize Oil Price using 4 bins (Low, Medium, High, Very High)\n",
    "data['Oil_Price_Disc'] = pd.cut(data['Oil_Price'], bins=[10,35,60,85,133.88], labels=['Low','Medium','High','Very High'])\n",
    "data.head()"
   ]
  },
  {
   "cell_type": "code",
   "execution_count": 53,
   "metadata": {},
   "outputs": [
    {
     "data": {
      "image/png": "[encoded data removed]",
      "text/plain": [
       "<Figure size 432x288 with 1 Axes>"
      ]
     },
     "metadata": {
      "needs_background": "light"
     },
     "output_type": "display_data"
    }
   ],
   "source": [
    "# Histogram of Oil Price Discretized\n",
    "a = data['Oil_Price_Disc']\n",
    "plt.hist(a, density=False, alpha=0.75, histtype='stepfilled', color='gold', edgecolor='black')\n",
    "plt.xlabel('Oil Price')\n",
    "plt.ylabel('Count');"
   ]
  },
  {
   "cell_type": "code",
   "execution_count": 55,
   "metadata": {},
   "outputs": [
    {
     "data": {
      "image/png": "[encoded data removed]",
      "text/plain": [
       "<Figure size 948.5x216 with 1 Axes>"
      ]
     },
     "metadata": {
      "needs_background": "light"
     },
     "output_type": "display_data"
    }
   ],
   "source": [
    "# Kde Distribution Plot of Oil Imports by Oil Price Discretized\n",
    "fig = sns.FacetGrid(data, hue='Oil_Price_Disc', aspect=4)\n",
    "fig.map(sns.kdeplot, 'Oil_Imports', shade=True)\n",
    "amax = data['Oil_Imports'].max()\n",
    "fig.set(xlim=(142930,amax))\n",
    "fig.set(title='Distribution of Oil Imports by Oil Price')\n",
    "fig.add_legend();"
   ]
  },
  {
   "cell_type": "code",
   "execution_count": 57,
   "metadata": {},
   "outputs": [
    {
     "data": {
      "image/png": "[encoded data removed]",
      "text/plain": [
       "<Figure size 948.5x216 with 1 Axes>"
      ]
     },
     "metadata": {
      "needs_background": "light"
     },
     "output_type": "display_data"
    }
   ],
   "source": [
    "# Kde Distribution Plot of Oil Exports by Oil Price Discretized\n",
    "fig = sns.FacetGrid(data, hue='Oil_Price_Disc', aspect=4)\n",
    "fig.map(sns.kdeplot, 'Oil_Exports', shade=True)\n",
    "amax = data['Oil_Exports'].max()\n",
    "fig.set(xlim=(0,amax))\n",
    "fig.set(title='Distribution of Oil Exports by Oil Price')\n",
    "fig.add_legend();"
   ]
  },
  {
   "cell_type": "code",
   "execution_count": 58,
   "metadata": {},
   "outputs": [
    {
     "data": {
      "image/png": "[encoded data removed]",
      "text/plain": [
       "<Figure size 948.5x216 with 1 Axes>"
      ]
     },
     "metadata": {
      "needs_background": "light"
     },
     "output_type": "display_data"
    }
   ],
   "source": [
    "# Kde Distribution Plot of Rig Count by Oil Price Discretized\n",
    "fig = sns.FacetGrid(data, hue='Oil_Price_Disc', aspect=4)\n",
    "fig.map(sns.kdeplot, 'Rig_Count', shade=True)\n",
    "amax = data['Rig_Count'].max()\n",
    "fig.set(xlim=(0,amax))\n",
    "fig.set(title='Distribution of Rig Count by Oil Price')\n",
    "fig.add_legend();"
   ]
  },
  {
   "cell_type": "code",
   "execution_count": 59,
   "metadata": {},
   "outputs": [
    {
     "data": {
      "image/png": "[encoded data removed]",
      "text/plain": [
       "<Figure size 948.5x216 with 1 Axes>"
      ]
     },
     "metadata": {
      "needs_background": "light"
     },
     "output_type": "display_data"
    }
   ],
   "source": [
    "# Kde Distribution Plot of U.S. Production by Oil Price Discretized\n",
    "fig = sns.FacetGrid(data, hue='Oil_Price_Disc', aspect=4)\n",
    "fig.map(sns.kdeplot, 'U.S._Oil_Production', shade=True)\n",
    "amax = data['U.S._Oil_Production'].max()\n",
    "fig.set(xlim=(3900,amax))\n",
    "fig.set(title='Distribution of U.S. Oil Production by Oil Price')\n",
    "fig.add_legend();"
   ]
  },
  {
   "cell_type": "code",
   "execution_count": 60,
   "metadata": {},
   "outputs": [
    {
     "data": {
      "image/png": "[encoded data removed]",
      "text/plain": [
       "<Figure size 948.5x216 with 1 Axes>"
      ]
     },
     "metadata": {
      "needs_background": "light"
     },
     "output_type": "display_data"
    }
   ],
   "source": [
    "# Kde Distribution Plot of U.S. Production by Oil Price Discretized\n",
    "fig = sns.FacetGrid(data, hue='Oil_Price_Disc', aspect=4)\n",
    "fig.map(sns.kdeplot, 'GulfCoast_Oil_Production', shade=True)\n",
    "amax = data['GulfCoast_Oil_Production'].max()\n",
    "fig.set(xlim=(1600,amax))\n",
    "fig.set(title='Distribution of GulfCoast Oil Production by Oil Price')\n",
    "fig.add_legend();"
   ]
  },
  {
   "cell_type": "code",
   "execution_count": 62,
   "metadata": {},
   "outputs": [
    {
     "data": {
      "image/png": "[encoded data removed]",
      "text/plain": [
       "<Figure size 948.5x216 with 1 Axes>"
      ]
     },
     "metadata": {
      "needs_background": "light"
     },
     "output_type": "display_data"
    }
   ],
   "source": [
    "# Kde Distribution Plot of U.S. Production by Oil Price Discretized\n",
    "fig = sns.FacetGrid(data, hue='Oil_Price_Disc', aspect=4)\n",
    "fig.map(sns.kdeplot, 'WestCoast_Oil_Production', shade=True)\n",
    "amax = data['WestCoast_Oil_Production'].max()\n",
    "fig.set(xlim=(800,amax))\n",
    "fig.set(title='Distribution of WestCoast Oil Production by Oil Price')\n",
    "fig.add_legend();"
   ]
  },
  {
   "cell_type": "markdown",
   "metadata": {},
   "source": [
    "All of these graphs make sense to me with the one exception of West Coast Production. When the Price of Oil is Very High the Production is Low and when the Price is Low the Production is Very High. Obviously there are other factors influencing this variable, might cause problems for my model. I will keep this in mind."
   ]
  },
  {
   "cell_type": "code",
   "execution_count": 63,
   "metadata": {},
   "outputs": [
    {
     "data": {
      "text/html": [
       "<div>\n",
       "<style scoped>\n",
       "    .dataframe tbody tr th:only-of-type {\n",
       "        vertical-align: middle;\n",
       "    }\n",
       "\n",
       "    .dataframe tbody tr th {\n",
       "        vertical-align: top;\n",
       "    }\n",
       "\n",
       "    .dataframe thead th {\n",
       "        text-align: right;\n",
       "    }\n",
       "</style>\n",
       "<table border=\"1\" class=\"dataframe\">\n",
       "  <thead>\n",
       "    <tr style=\"text-align: right;\">\n",
       "      <th></th>\n",
       "      <th>Rig_Count</th>\n",
       "    </tr>\n",
       "    <tr>\n",
       "      <th>Oil_Price_Disc</th>\n",
       "      <th></th>\n",
       "    </tr>\n",
       "  </thead>\n",
       "  <tbody>\n",
       "    <tr>\n",
       "      <th>Low</th>\n",
       "      <td>302.289017</td>\n",
       "    </tr>\n",
       "    <tr>\n",
       "      <th>Medium</th>\n",
       "      <td>505.530864</td>\n",
       "    </tr>\n",
       "    <tr>\n",
       "      <th>High</th>\n",
       "      <td>531.037037</td>\n",
       "    </tr>\n",
       "    <tr>\n",
       "      <th>Very High</th>\n",
       "      <td>1083.859649</td>\n",
       "    </tr>\n",
       "    <tr>\n",
       "      <th>All</th>\n",
       "      <td>503.287671</td>\n",
       "    </tr>\n",
       "  </tbody>\n",
       "</table>\n",
       "</div>"
      ],
      "text/plain": [
       "                  Rig_Count\n",
       "Oil_Price_Disc             \n",
       "Low              302.289017\n",
       "Medium           505.530864\n",
       "High             531.037037\n",
       "Very High       1083.859649\n",
       "All              503.287671"
      ]
     },
     "execution_count": 63,
     "metadata": {},
     "output_type": "execute_result"
    }
   ],
   "source": [
    "# Average Rig Count by Oil Price Discretized (pivot table)\n",
    "data.pivot_table('Rig_Count', 'Oil_Price_Disc', aggfunc=np.mean, margins=True)"
   ]
  },
  {
   "cell_type": "code",
   "execution_count": 64,
   "metadata": {},
   "outputs": [
    {
     "data": {
      "text/html": [
       "<div>\n",
       "<style scoped>\n",
       "    .dataframe tbody tr th:only-of-type {\n",
       "        vertical-align: middle;\n",
       "    }\n",
       "\n",
       "    .dataframe tbody tr th {\n",
       "        vertical-align: top;\n",
       "    }\n",
       "\n",
       "    .dataframe thead th {\n",
       "        text-align: right;\n",
       "    }\n",
       "</style>\n",
       "<table border=\"1\" class=\"dataframe\">\n",
       "  <thead>\n",
       "    <tr style=\"text-align: right;\">\n",
       "      <th></th>\n",
       "      <th>WestCoast_Oil_Production</th>\n",
       "    </tr>\n",
       "    <tr>\n",
       "      <th>Oil_Price_Disc</th>\n",
       "      <th></th>\n",
       "    </tr>\n",
       "  </thead>\n",
       "  <tbody>\n",
       "    <tr>\n",
       "      <th>Low</th>\n",
       "      <td>2193.075145</td>\n",
       "    </tr>\n",
       "    <tr>\n",
       "      <th>Medium</th>\n",
       "      <td>1221.135802</td>\n",
       "    </tr>\n",
       "    <tr>\n",
       "      <th>High</th>\n",
       "      <td>1236.444444</td>\n",
       "    </tr>\n",
       "    <tr>\n",
       "      <th>Very High</th>\n",
       "      <td>1170.421053</td>\n",
       "    </tr>\n",
       "    <tr>\n",
       "      <th>All</th>\n",
       "      <td>1676.153425</td>\n",
       "    </tr>\n",
       "  </tbody>\n",
       "</table>\n",
       "</div>"
      ],
      "text/plain": [
       "                WestCoast_Oil_Production\n",
       "Oil_Price_Disc                          \n",
       "Low                          2193.075145\n",
       "Medium                       1221.135802\n",
       "High                         1236.444444\n",
       "Very High                    1170.421053\n",
       "All                          1676.153425"
      ]
     },
     "execution_count": 64,
     "metadata": {},
     "output_type": "execute_result"
    }
   ],
   "source": [
    "# Average West Coast Production by Oil Price Discretized (pivot table)\n",
    "data.pivot_table('WestCoast_Oil_Production', 'Oil_Price_Disc', aggfunc=np.mean, margins=True)"
   ]
  },
  {
   "cell_type": "code",
   "execution_count": 65,
   "metadata": {},
   "outputs": [
    {
     "data": {
      "text/html": [
       "<div>\n",
       "<style scoped>\n",
       "    .dataframe tbody tr th:only-of-type {\n",
       "        vertical-align: middle;\n",
       "    }\n",
       "\n",
       "    .dataframe tbody tr th {\n",
       "        vertical-align: top;\n",
       "    }\n",
       "\n",
       "    .dataframe thead th {\n",
       "        text-align: right;\n",
       "    }\n",
       "</style>\n",
       "<table border=\"1\" class=\"dataframe\">\n",
       "  <thead>\n",
       "    <tr style=\"text-align: right;\">\n",
       "      <th></th>\n",
       "      <th>Oil_Imports</th>\n",
       "    </tr>\n",
       "    <tr>\n",
       "      <th>Oil_Price_Disc</th>\n",
       "      <th></th>\n",
       "    </tr>\n",
       "  </thead>\n",
       "  <tbody>\n",
       "    <tr>\n",
       "      <th>Low</th>\n",
       "      <td>237363.855491</td>\n",
       "    </tr>\n",
       "    <tr>\n",
       "      <th>Medium</th>\n",
       "      <td>254500.765432</td>\n",
       "    </tr>\n",
       "    <tr>\n",
       "      <th>High</th>\n",
       "      <td>277580.537037</td>\n",
       "    </tr>\n",
       "    <tr>\n",
       "      <th>Very High</th>\n",
       "      <td>259642.701754</td>\n",
       "    </tr>\n",
       "    <tr>\n",
       "      <th>All</th>\n",
       "      <td>250595.868493</td>\n",
       "    </tr>\n",
       "  </tbody>\n",
       "</table>\n",
       "</div>"
      ],
      "text/plain": [
       "                  Oil_Imports\n",
       "Oil_Price_Disc               \n",
       "Low             237363.855491\n",
       "Medium          254500.765432\n",
       "High            277580.537037\n",
       "Very High       259642.701754\n",
       "All             250595.868493"
      ]
     },
     "execution_count": 65,
     "metadata": {},
     "output_type": "execute_result"
    }
   ],
   "source": [
    "# Average Oil Imports by Oil Price Discretized (pivot table)\n",
    "data.pivot_table('Oil_Imports', 'Oil_Price_Disc', aggfunc=np.mean, margins=True)"
   ]
  },
  {
   "cell_type": "code",
   "execution_count": 66,
   "metadata": {},
   "outputs": [
    {
     "data": {
      "text/html": [
       "<div>\n",
       "<style scoped>\n",
       "    .dataframe tbody tr th:only-of-type {\n",
       "        vertical-align: middle;\n",
       "    }\n",
       "\n",
       "    .dataframe tbody tr th {\n",
       "        vertical-align: top;\n",
       "    }\n",
       "\n",
       "    .dataframe thead th {\n",
       "        text-align: right;\n",
       "    }\n",
       "</style>\n",
       "<table border=\"1\" class=\"dataframe\">\n",
       "  <thead>\n",
       "    <tr style=\"text-align: right;\">\n",
       "      <th></th>\n",
       "      <th>Oil_Exports</th>\n",
       "    </tr>\n",
       "    <tr>\n",
       "      <th>Oil_Price_Disc</th>\n",
       "      <th></th>\n",
       "    </tr>\n",
       "  </thead>\n",
       "  <tbody>\n",
       "    <tr>\n",
       "      <th>Low</th>\n",
       "      <td>4253.404624</td>\n",
       "    </tr>\n",
       "    <tr>\n",
       "      <th>Medium</th>\n",
       "      <td>25832.061728</td>\n",
       "    </tr>\n",
       "    <tr>\n",
       "      <th>High</th>\n",
       "      <td>15695.259259</td>\n",
       "    </tr>\n",
       "    <tr>\n",
       "      <th>Very High</th>\n",
       "      <td>3280.210526</td>\n",
       "    </tr>\n",
       "    <tr>\n",
       "      <th>All</th>\n",
       "      <td>10582.882192</td>\n",
       "    </tr>\n",
       "  </tbody>\n",
       "</table>\n",
       "</div>"
      ],
      "text/plain": [
       "                 Oil_Exports\n",
       "Oil_Price_Disc              \n",
       "Low              4253.404624\n",
       "Medium          25832.061728\n",
       "High            15695.259259\n",
       "Very High        3280.210526\n",
       "All             10582.882192"
      ]
     },
     "execution_count": 66,
     "metadata": {},
     "output_type": "execute_result"
    }
   ],
   "source": [
    "# Average Oil Exports by Oil Price Discretized (pivot table)\n",
    "data.pivot_table('Oil_Exports', 'Oil_Price_Disc', aggfunc=np.mean, margins=True)"
   ]
  },
  {
   "cell_type": "code",
   "execution_count": 67,
   "metadata": {},
   "outputs": [
    {
     "data": {
      "text/html": [
       "<div>\n",
       "<style scoped>\n",
       "    .dataframe tbody tr th:only-of-type {\n",
       "        vertical-align: middle;\n",
       "    }\n",
       "\n",
       "    .dataframe tbody tr th {\n",
       "        vertical-align: top;\n",
       "    }\n",
       "\n",
       "    .dataframe thead th {\n",
       "        text-align: right;\n",
       "    }\n",
       "</style>\n",
       "<table border=\"1\" class=\"dataframe\">\n",
       "  <thead>\n",
       "    <tr style=\"text-align: right;\">\n",
       "      <th></th>\n",
       "      <th>U.S._Oil_Production</th>\n",
       "    </tr>\n",
       "    <tr>\n",
       "      <th>Oil_Price_Disc</th>\n",
       "      <th></th>\n",
       "    </tr>\n",
       "  </thead>\n",
       "  <tbody>\n",
       "    <tr>\n",
       "      <th>Low</th>\n",
       "      <td>6542.439306</td>\n",
       "    </tr>\n",
       "    <tr>\n",
       "      <th>Medium</th>\n",
       "      <td>8241.814815</td>\n",
       "    </tr>\n",
       "    <tr>\n",
       "      <th>High</th>\n",
       "      <td>6670.740741</td>\n",
       "    </tr>\n",
       "    <tr>\n",
       "      <th>Very High</th>\n",
       "      <td>6542.473684</td>\n",
       "    </tr>\n",
       "    <tr>\n",
       "      <th>All</th>\n",
       "      <td>6938.547945</td>\n",
       "    </tr>\n",
       "  </tbody>\n",
       "</table>\n",
       "</div>"
      ],
      "text/plain": [
       "                U.S._Oil_Production\n",
       "Oil_Price_Disc                     \n",
       "Low                     6542.439306\n",
       "Medium                  8241.814815\n",
       "High                    6670.740741\n",
       "Very High               6542.473684\n",
       "All                     6938.547945"
      ]
     },
     "execution_count": 67,
     "metadata": {},
     "output_type": "execute_result"
    }
   ],
   "source": [
    "# Average US Production by Oil Price Discretized (pivot table)\n",
    "data.pivot_table('U.S._Oil_Production', 'Oil_Price_Disc', aggfunc=np.mean, margins=True)"
   ]
  },
  {
   "cell_type": "markdown",
   "metadata": {},
   "source": [
    "MODELING & EVALUATION"
   ]
  },
  {
   "cell_type": "code",
   "execution_count": 2,
   "metadata": {},
   "outputs": [
    {
     "name": "stdout",
     "output_type": "stream",
     "text": [
      "<class 'pandas.core.frame.DataFrame'>\n",
      "RangeIndex: 365 entries, 0 to 364\n",
      "Data columns (total 10 columns):\n",
      " #   Column                        Non-Null Count  Dtype  \n",
      "---  ------                        --------------  -----  \n",
      " 0   Oil_Price                     365 non-null    float64\n",
      " 1   Oil_Imports                   365 non-null    int64  \n",
      " 2   Oil_Exports                   365 non-null    int64  \n",
      " 3   Rig_Count                     365 non-null    int64  \n",
      " 4   U.S._Oil_Production           365 non-null    int64  \n",
      " 5   EastCoast_Oil_Production      365 non-null    int64  \n",
      " 6   Midwest_Oil_Production        365 non-null    int64  \n",
      " 7   GulfCoast_Oil_Production      365 non-null    int64  \n",
      " 8   RockyMountain_Oil_Production  365 non-null    int64  \n",
      " 9   WestCoast_Oil_Production      365 non-null    int64  \n",
      "dtypes: float64(1), int64(9)\n",
      "memory usage: 28.6 KB\n"
     ]
    }
   ],
   "source": [
    "# Import the cleaned Dataset\n",
    "data = pd.read_csv('Capstone_Cleaned.csv')\n",
    "data.info()"
   ]
  },
  {
   "cell_type": "code",
   "execution_count": 3,
   "metadata": {},
   "outputs": [
    {
     "name": "stdout",
     "output_type": "stream",
     "text": [
      "(365, 9)\n",
      "(365,)\n"
     ]
    }
   ],
   "source": [
    "# Set features and target variable\n",
    "X = data.drop(['Oil_Price'], axis=1)\n",
    "y = data['Oil_Price']\n",
    "print(X.shape)\n",
    "print(y.shape)"
   ]
  },
  {
   "cell_type": "markdown",
   "metadata": {},
   "source": [
    "I will start with just the models and raw data to see the progression as I move forward."
   ]
  },
  {
   "cell_type": "code",
   "execution_count": 4,
   "metadata": {},
   "outputs": [],
   "source": [
    "# Prepare the Models\n",
    "algosClass = []\n",
    "algosClass.append(('Random Forest Regressor', RandomForestRegressor()))\n",
    "algosClass.append(('Gradient Boosting Regressor', GradientBoostingRegressor()))\n",
    "algosClass.append(('SVR', SVR()))\n",
    "algosClass.append(('MLP Regressor', MLPRegressor()))"
   ]
  },
  {
   "cell_type": "code",
   "execution_count": 5,
   "metadata": {},
   "outputs": [
    {
     "name": "stderr",
     "output_type": "stream",
     "text": [
      "C:\\Users\\Owner\\New folder\\envs\\DataScience\\lib\\site-packages\\sklearn\\neural_network\\_multilayer_perceptron.py:582: ConvergenceWarning: Stochastic Optimizer: Maximum iterations (200) reached and the optimization hasn't converged yet.\n",
      "  warnings.warn(\n",
      "C:\\Users\\Owner\\New folder\\envs\\DataScience\\lib\\site-packages\\sklearn\\neural_network\\_multilayer_perceptron.py:582: ConvergenceWarning: Stochastic Optimizer: Maximum iterations (200) reached and the optimization hasn't converged yet.\n",
      "  warnings.warn(\n",
      "C:\\Users\\Owner\\New folder\\envs\\DataScience\\lib\\site-packages\\sklearn\\neural_network\\_multilayer_perceptron.py:582: ConvergenceWarning: Stochastic Optimizer: Maximum iterations (200) reached and the optimization hasn't converged yet.\n",
      "  warnings.warn(\n"
     ]
    }
   ],
   "source": [
    "# Regression\n",
    "results = []\n",
    "names = []\n",
    "for name, model in algosClass:\n",
    "    result = cross_val_score(model, X, y, cv=3, scoring='r2')\n",
    "    names.append(name)\n",
    "    results.append(result)"
   ]
  },
  {
   "cell_type": "code",
   "execution_count": 6,
   "metadata": {},
   "outputs": [
    {
     "name": "stdout",
     "output_type": "stream",
     "text": [
      "Random Forest Regressor -48.69051481232898\n",
      "Gradient Boosting Regressor -33.606286653419026\n",
      "SVR -33.42852539262247\n",
      "MLP Regressor -731.7638215281191\n"
     ]
    }
   ],
   "source": [
    "# Output\n",
    "for i in range(len(names)):\n",
    "    print(names[i], results[i].mean())"
   ]
  },
  {
   "cell_type": "markdown",
   "metadata": {},
   "source": [
    "The results are not good. Let's scale the data and see if these scores improve."
   ]
  },
  {
   "cell_type": "code",
   "execution_count": 7,
   "metadata": {},
   "outputs": [
    {
     "name": "stdout",
     "output_type": "stream",
     "text": [
      "(365, 9)\n"
     ]
    }
   ],
   "source": [
    "# Create the scaler, fit it to X, and then transform X to scaled data\n",
    "scaler = preprocessing.StandardScaler().fit(X)\n",
    "X_scaled = scaler.transform(X)\n",
    "print(X_scaled.shape)"
   ]
  },
  {
   "cell_type": "code",
   "execution_count": 8,
   "metadata": {},
   "outputs": [
    {
     "name": "stderr",
     "output_type": "stream",
     "text": [
      "C:\\Users\\Owner\\New folder\\envs\\DataScience\\lib\\site-packages\\sklearn\\neural_network\\_multilayer_perceptron.py:582: ConvergenceWarning: Stochastic Optimizer: Maximum iterations (200) reached and the optimization hasn't converged yet.\n",
      "  warnings.warn(\n",
      "C:\\Users\\Owner\\New folder\\envs\\DataScience\\lib\\site-packages\\sklearn\\neural_network\\_multilayer_perceptron.py:582: ConvergenceWarning: Stochastic Optimizer: Maximum iterations (200) reached and the optimization hasn't converged yet.\n",
      "  warnings.warn(\n",
      "C:\\Users\\Owner\\New folder\\envs\\DataScience\\lib\\site-packages\\sklearn\\neural_network\\_multilayer_perceptron.py:582: ConvergenceWarning: Stochastic Optimizer: Maximum iterations (200) reached and the optimization hasn't converged yet.\n",
      "  warnings.warn(\n"
     ]
    }
   ],
   "source": [
    "# Regression\n",
    "results = []\n",
    "names = []\n",
    "for name, model in algosClass:\n",
    "    result = cross_val_score(model, X_scaled, y, cv=3, scoring='r2')\n",
    "    names.append(name)\n",
    "    results.append(result)"
   ]
  },
  {
   "cell_type": "code",
   "execution_count": 9,
   "metadata": {},
   "outputs": [
    {
     "name": "stdout",
     "output_type": "stream",
     "text": [
      "Random Forest Regressor -46.93140886753403\n",
      "Gradient Boosting Regressor -32.88028032177679\n",
      "SVR -24.72054295355821\n",
      "MLP Regressor -7.127750645374614\n"
     ]
    }
   ],
   "source": [
    "# Output\n",
    "for i in range(len(names)):\n",
    "    print(names[i], results[i].mean())"
   ]
  },
  {
   "cell_type": "markdown",
   "metadata": {},
   "source": [
    "Scaling the data greatly improved the MLP Regressor. Let's try the same scaler with mean=False."
   ]
  },
  {
   "cell_type": "code",
   "execution_count": 10,
   "metadata": {},
   "outputs": [
    {
     "name": "stdout",
     "output_type": "stream",
     "text": [
      "(365, 9)\n"
     ]
    }
   ],
   "source": [
    "# Create the scaler, fit it to X, and then transform X to scaled data\n",
    "scaler = preprocessing.StandardScaler(with_mean=False).fit(X)\n",
    "X_scaled_2 = scaler.transform(X)\n",
    "print(X_scaled_2.shape)"
   ]
  },
  {
   "cell_type": "code",
   "execution_count": 11,
   "metadata": {},
   "outputs": [
    {
     "name": "stderr",
     "output_type": "stream",
     "text": [
      "C:\\Users\\Owner\\New folder\\envs\\DataScience\\lib\\site-packages\\sklearn\\neural_network\\_multilayer_perceptron.py:582: ConvergenceWarning: Stochastic Optimizer: Maximum iterations (200) reached and the optimization hasn't converged yet.\n",
      "  warnings.warn(\n",
      "C:\\Users\\Owner\\New folder\\envs\\DataScience\\lib\\site-packages\\sklearn\\neural_network\\_multilayer_perceptron.py:582: ConvergenceWarning: Stochastic Optimizer: Maximum iterations (200) reached and the optimization hasn't converged yet.\n",
      "  warnings.warn(\n",
      "C:\\Users\\Owner\\New folder\\envs\\DataScience\\lib\\site-packages\\sklearn\\neural_network\\_multilayer_perceptron.py:582: ConvergenceWarning: Stochastic Optimizer: Maximum iterations (200) reached and the optimization hasn't converged yet.\n",
      "  warnings.warn(\n"
     ]
    }
   ],
   "source": [
    "# Regression\n",
    "results = []\n",
    "names = []\n",
    "for name, model in algosClass:\n",
    "    result = cross_val_score(model, X_scaled_2, y, cv=3, scoring='r2')\n",
    "    names.append(name)\n",
    "    results.append(result)"
   ]
  },
  {
   "cell_type": "code",
   "execution_count": 12,
   "metadata": {},
   "outputs": [
    {
     "name": "stdout",
     "output_type": "stream",
     "text": [
      "Random Forest Regressor -45.80296692605912\n",
      "Gradient Boosting Regressor -33.99044331743731\n",
      "SVR -28.429131796995588\n",
      "MLP Regressor -27.214449169284126\n"
     ]
    }
   ],
   "source": [
    "# Output\n",
    "for i in range(len(names)):\n",
    "    print(names[i], results[i].mean())"
   ]
  },
  {
   "cell_type": "markdown",
   "metadata": {},
   "source": [
    "Let's try some different scalers to see if we can improve those scores."
   ]
  },
  {
   "cell_type": "code",
   "execution_count": 13,
   "metadata": {},
   "outputs": [
    {
     "name": "stdout",
     "output_type": "stream",
     "text": [
      "(365, 9)\n"
     ]
    }
   ],
   "source": [
    "# Create the scaler, fit it to X, and then transform X to scaled data\n",
    "scaler = preprocessing.MinMaxScaler().fit(X)\n",
    "X_scaled_3 = scaler.transform(X)\n",
    "print(X_scaled_3.shape)"
   ]
  },
  {
   "cell_type": "code",
   "execution_count": 14,
   "metadata": {},
   "outputs": [
    {
     "name": "stderr",
     "output_type": "stream",
     "text": [
      "C:\\Users\\Owner\\New folder\\envs\\DataScience\\lib\\site-packages\\sklearn\\neural_network\\_multilayer_perceptron.py:582: ConvergenceWarning: Stochastic Optimizer: Maximum iterations (200) reached and the optimization hasn't converged yet.\n",
      "  warnings.warn(\n",
      "C:\\Users\\Owner\\New folder\\envs\\DataScience\\lib\\site-packages\\sklearn\\neural_network\\_multilayer_perceptron.py:582: ConvergenceWarning: Stochastic Optimizer: Maximum iterations (200) reached and the optimization hasn't converged yet.\n",
      "  warnings.warn(\n",
      "C:\\Users\\Owner\\New folder\\envs\\DataScience\\lib\\site-packages\\sklearn\\neural_network\\_multilayer_perceptron.py:582: ConvergenceWarning: Stochastic Optimizer: Maximum iterations (200) reached and the optimization hasn't converged yet.\n",
      "  warnings.warn(\n"
     ]
    }
   ],
   "source": [
    "# Regression\n",
    "results = []\n",
    "names = []\n",
    "for name, model in algosClass:\n",
    "    result = cross_val_score(model, X_scaled_3, y, cv=3, scoring='r2')\n",
    "    names.append(name)\n",
    "    results.append(result)"
   ]
  },
  {
   "cell_type": "code",
   "execution_count": 15,
   "metadata": {},
   "outputs": [
    {
     "name": "stdout",
     "output_type": "stream",
     "text": [
      "Random Forest Regressor -47.845418893235426\n",
      "Gradient Boosting Regressor -32.874895324407966\n",
      "SVR -22.82371183815904\n",
      "MLP Regressor -10.365738572408718\n"
     ]
    }
   ],
   "source": [
    "# Output\n",
    "for i in range(len(names)):\n",
    "    print(names[i], results[i].mean())"
   ]
  },
  {
   "cell_type": "code",
   "execution_count": 16,
   "metadata": {},
   "outputs": [
    {
     "name": "stdout",
     "output_type": "stream",
     "text": [
      "(365, 9)\n"
     ]
    }
   ],
   "source": [
    "# Create the scaler, fit it to X, and then transform X to scaled data\n",
    "scaler = preprocessing.RobustScaler().fit(X)\n",
    "X_scaled_4 = scaler.transform(X)\n",
    "print(X_scaled_4.shape)"
   ]
  },
  {
   "cell_type": "code",
   "execution_count": 17,
   "metadata": {},
   "outputs": [
    {
     "name": "stderr",
     "output_type": "stream",
     "text": [
      "C:\\Users\\Owner\\New folder\\envs\\DataScience\\lib\\site-packages\\sklearn\\neural_network\\_multilayer_perceptron.py:582: ConvergenceWarning: Stochastic Optimizer: Maximum iterations (200) reached and the optimization hasn't converged yet.\n",
      "  warnings.warn(\n",
      "C:\\Users\\Owner\\New folder\\envs\\DataScience\\lib\\site-packages\\sklearn\\neural_network\\_multilayer_perceptron.py:582: ConvergenceWarning: Stochastic Optimizer: Maximum iterations (200) reached and the optimization hasn't converged yet.\n",
      "  warnings.warn(\n",
      "C:\\Users\\Owner\\New folder\\envs\\DataScience\\lib\\site-packages\\sklearn\\neural_network\\_multilayer_perceptron.py:582: ConvergenceWarning: Stochastic Optimizer: Maximum iterations (200) reached and the optimization hasn't converged yet.\n",
      "  warnings.warn(\n"
     ]
    }
   ],
   "source": [
    "# Regression\n",
    "results = []\n",
    "names = []\n",
    "for name, model in algosClass:\n",
    "    result = cross_val_score(model, X_scaled_4, y, cv=3, scoring='r2')\n",
    "    names.append(name)\n",
    "    results.append(result)"
   ]
  },
  {
   "cell_type": "code",
   "execution_count": 18,
   "metadata": {},
   "outputs": [
    {
     "name": "stdout",
     "output_type": "stream",
     "text": [
      "Random Forest Regressor -49.929159868954336\n",
      "Gradient Boosting Regressor -33.343891359538596\n",
      "SVR -33.90392771260985\n",
      "MLP Regressor -7.776633068816295\n"
     ]
    }
   ],
   "source": [
    "# Output\n",
    "for i in range(len(names)):\n",
    "    print(names[i], results[i].mean())"
   ]
  },
  {
   "cell_type": "code",
   "execution_count": 19,
   "metadata": {},
   "outputs": [
    {
     "name": "stdout",
     "output_type": "stream",
     "text": [
      "(365, 9)\n"
     ]
    }
   ],
   "source": [
    "# Create the scaler, fit it to X, and then transform X to scaled data\n",
    "scaler = preprocessing.MaxAbsScaler().fit(X)\n",
    "X_scaled_5 = scaler.transform(X)\n",
    "print(X_scaled_5.shape)"
   ]
  },
  {
   "cell_type": "code",
   "execution_count": 20,
   "metadata": {},
   "outputs": [
    {
     "name": "stderr",
     "output_type": "stream",
     "text": [
      "C:\\Users\\Owner\\New folder\\envs\\DataScience\\lib\\site-packages\\sklearn\\neural_network\\_multilayer_perceptron.py:582: ConvergenceWarning: Stochastic Optimizer: Maximum iterations (200) reached and the optimization hasn't converged yet.\n",
      "  warnings.warn(\n",
      "C:\\Users\\Owner\\New folder\\envs\\DataScience\\lib\\site-packages\\sklearn\\neural_network\\_multilayer_perceptron.py:582: ConvergenceWarning: Stochastic Optimizer: Maximum iterations (200) reached and the optimization hasn't converged yet.\n",
      "  warnings.warn(\n",
      "C:\\Users\\Owner\\New folder\\envs\\DataScience\\lib\\site-packages\\sklearn\\neural_network\\_multilayer_perceptron.py:582: ConvergenceWarning: Stochastic Optimizer: Maximum iterations (200) reached and the optimization hasn't converged yet.\n",
      "  warnings.warn(\n"
     ]
    }
   ],
   "source": [
    "# Regression\n",
    "results = []\n",
    "names = []\n",
    "for name, model in algosClass:\n",
    "    result = cross_val_score(model, X_scaled_5, y, cv=3, scoring='r2')\n",
    "    names.append(name)\n",
    "    results.append(result)"
   ]
  },
  {
   "cell_type": "code",
   "execution_count": 21,
   "metadata": {},
   "outputs": [
    {
     "name": "stdout",
     "output_type": "stream",
     "text": [
      "Random Forest Regressor -48.33546462981986\n",
      "Gradient Boosting Regressor -31.971151783950287\n",
      "SVR -24.829972700642703\n",
      "MLP Regressor -17.157836521027185\n"
     ]
    }
   ],
   "source": [
    "# Output\n",
    "for i in range(len(names)):\n",
    "    print(names[i], results[i].mean())"
   ]
  },
  {
   "cell_type": "markdown",
   "metadata": {},
   "source": [
    "Best Scaler Results Per Model:"
   ]
  },
  {
   "cell_type": "markdown",
   "metadata": {},
   "source": [
    "Random Forest - Standard Scaler (with_mean=False) = -45.80"
   ]
  },
  {
   "cell_type": "markdown",
   "metadata": {},
   "source": [
    "Gradient Boosting - MaxAbs Scaler = -31.97"
   ]
  },
  {
   "cell_type": "markdown",
   "metadata": {},
   "source": [
    "SVR - MinMax Scaler = -22.82"
   ]
  },
  {
   "cell_type": "markdown",
   "metadata": {},
   "source": [
    "MLP - Standard Scaler (with_mean=True) = -7.12"
   ]
  },
  {
   "cell_type": "markdown",
   "metadata": {},
   "source": [
    "Now I want to try to set the parameters of my models. I will try with Grid Search CV."
   ]
  },
  {
   "cell_type": "code",
   "execution_count": 22,
   "metadata": {},
   "outputs": [],
   "source": [
    "# Split the data into training and testing sets\n",
    "X_train, X_test, y_train, y_test = train_test_split(X, y, test_size = .30, random_state = 123)"
   ]
  },
  {
   "cell_type": "code",
   "execution_count": 23,
   "metadata": {},
   "outputs": [
    {
     "name": "stdout",
     "output_type": "stream",
     "text": [
      "RandomForestRegressor(max_depth=9, max_leaf_nodes=50)\n",
      "0.9145012206399907\n"
     ]
    }
   ],
   "source": [
    "# define the parameters grid\n",
    "param_grid = {'max_depth': np.arange(3, 10),\n",
    "             'max_leaf_nodes': [5, 10, 20, 50],\n",
    "             'min_samples_split': [2, 5, 10, 20],\n",
    "             'n_estimators': [100, 300, 600, 1000]}\n",
    "\n",
    "# create the grid\n",
    "grid_tree = GridSearchCV(RandomForestRegressor(), param_grid, cv = 3, scoring= 'r2')\n",
    "\n",
    "#training\n",
    "grid_tree.fit(X_train, y_train)\n",
    "#let's see the best estimator\n",
    "print(grid_tree.best_estimator_)\n",
    "#with its score\n",
    "print(np.abs(grid_tree.best_score_))"
   ]
  },
  {
   "cell_type": "code",
   "execution_count": 24,
   "metadata": {},
   "outputs": [],
   "source": [
    "algo = RandomForestRegressor(max_depth=9, max_leaf_nodes=50)\n",
    "model = algo.fit(X_train, y_train)\n",
    "preds = model.predict(X_test)"
   ]
  },
  {
   "cell_type": "code",
   "execution_count": 25,
   "metadata": {},
   "outputs": [
    {
     "name": "stdout",
     "output_type": "stream",
     "text": [
      "R2 Score is: 0.898\n",
      "MSE is: 76.594\n",
      "RMSE is: 8.752\n"
     ]
    }
   ],
   "source": [
    "# Assessment\n",
    "print('R2 Score is: %.3f' % r2_score(y_test, preds))\n",
    "print('MSE is: %.3f' % mean_squared_error(y_test, preds))\n",
    "rms = sqrt(mean_squared_error(y_test, preds))\n",
    "print('RMSE is: %.3f' % rms)"
   ]
  },
  {
   "cell_type": "code",
   "execution_count": 26,
   "metadata": {},
   "outputs": [
    {
     "data": {
      "image/png": "[encoded data removed]",
      "text/plain": [
       "<Figure size 504x288 with 1 Axes>"
      ]
     },
     "metadata": {
      "needs_background": "light"
     },
     "output_type": "display_data"
    }
   ],
   "source": [
    "# Check the features importance\n",
    "tmp = pd.DataFrame({'Feature': X, 'Feature importance': algo.feature_importances_})\n",
    "tmp = tmp.sort_values(by='Feature importance',ascending=False)\n",
    "plt.figure(figsize = (7,4))\n",
    "plt.title('Features importance',fontsize=14)\n",
    "s = sns.barplot(x='Feature',y='Feature importance',data=tmp)\n",
    "s.set_xticklabels(s.get_xticklabels(),rotation=90)\n",
    "plt.show()"
   ]
  },
  {
   "cell_type": "markdown",
   "metadata": {},
   "source": [
    "To my surprise, the most important feature by far is the one I couldn't make sense of, West Coast Oil Production. That's why you never make assumptions in predictive modeling and just let the algorithm do its work."
   ]
  },
  {
   "cell_type": "markdown",
   "metadata": {},
   "source": [
    "Now I want to see which features are most important using Principal Component Analysis (PCA). This will show me the explained variance."
   ]
  },
  {
   "cell_type": "code",
   "execution_count": 27,
   "metadata": {},
   "outputs": [
    {
     "name": "stdout",
     "output_type": "stream",
     "text": [
      "(365, 9)\n"
     ]
    }
   ],
   "source": [
    "pca = PCA()\n",
    "X_pca = pca.fit_transform(X)\n",
    "print(X_pca.shape)"
   ]
  },
  {
   "cell_type": "code",
   "execution_count": 28,
   "metadata": {},
   "outputs": [
    {
     "data": {
      "image/png": "[encoded data removed]",
      "text/plain": [
       "<Figure size 432x288 with 1 Axes>"
      ]
     },
     "metadata": {
      "needs_background": "light"
     },
     "output_type": "display_data"
    }
   ],
   "source": [
    "def myplot(score,coeff,labels=None):\n",
    "    xs = score[:,0]\n",
    "    ys = score[:,1]\n",
    "    n = coeff.shape[0]\n",
    "    scalex = 1.0/(xs.max() - xs.min())\n",
    "    scaley = 1.0/(ys.max() - ys.min())\n",
    "    plt.scatter(xs * scalex,ys * scaley, c = y)\n",
    "    for i in range(n):\n",
    "        plt.arrow(0, 0, coeff[i,0], coeff[i,1],color = 'r',alpha = 0.5)\n",
    "        if labels is None:\n",
    "            plt.text(coeff[i,0]* 1.15, coeff[i,1] * 1.15, \"Var\"+str(i+1), color = 'g', ha = 'center', va = 'center')\n",
    "        else:\n",
    "            plt.text(coeff[i,0]* 1.15, coeff[i,1] * 1.15, labels[i], color = 'g', ha = 'center', va = 'center')\n",
    "plt.xlim(-1,1)\n",
    "plt.ylim(-1,1)\n",
    "plt.xlabel(\"PC{}\".format(1))\n",
    "plt.ylabel(\"PC{}\".format(2))\n",
    "plt.grid()\n",
    "\n",
    "#Call the function. Use only the 2 PCs.\n",
    "myplot(X_pca[:,0:2],np.transpose(pca.components_[0:2, :]))\n",
    "plt.show()"
   ]
  },
  {
   "cell_type": "markdown",
   "metadata": {},
   "source": [
    "The graph shows Variables 1 and 2 being the most important features, which is Oil Imports and Exports."
   ]
  },
  {
   "cell_type": "code",
   "execution_count": 29,
   "metadata": {},
   "outputs": [
    {
     "data": {
      "text/plain": [
       "array([8.10797250e-01, 1.88660412e-01, 4.42292510e-04, 7.41620779e-05,\n",
       "       2.11380925e-05, 4.44417074e-06, 2.94490981e-07, 7.14054351e-09,\n",
       "       3.20506069e-11])"
      ]
     },
     "execution_count": 29,
     "metadata": {},
     "output_type": "execute_result"
    }
   ],
   "source": [
    "pca.explained_variance_ratio_"
   ]
  },
  {
   "cell_type": "markdown",
   "metadata": {},
   "source": [
    "I see that PC1 explains over 80% of the variance, lets make a data frame to show the top 5 most important features in PC1 and PC2."
   ]
  },
  {
   "cell_type": "code",
   "execution_count": 30,
   "metadata": {},
   "outputs": [
    {
     "data": {
      "text/html": [
       "<div>\n",
       "<style scoped>\n",
       "    .dataframe tbody tr th:only-of-type {\n",
       "        vertical-align: middle;\n",
       "    }\n",
       "\n",
       "    .dataframe tbody tr th {\n",
       "        vertical-align: top;\n",
       "    }\n",
       "\n",
       "    .dataframe thead th {\n",
       "        text-align: right;\n",
       "    }\n",
       "</style>\n",
       "<table border=\"1\" class=\"dataframe\">\n",
       "  <thead>\n",
       "    <tr style=\"text-align: right;\">\n",
       "      <th></th>\n",
       "      <th>PC1</th>\n",
       "      <th>PC2</th>\n",
       "      <th>PC3</th>\n",
       "      <th>PC4</th>\n",
       "      <th>PC5</th>\n",
       "      <th>PC6</th>\n",
       "      <th>PC7</th>\n",
       "      <th>PC8</th>\n",
       "      <th>PC9</th>\n",
       "    </tr>\n",
       "  </thead>\n",
       "  <tbody>\n",
       "    <tr>\n",
       "      <th>Oil_Imports</th>\n",
       "      <td>0.974498</td>\n",
       "      <td>0.223670</td>\n",
       "      <td>0.010824</td>\n",
       "      <td>0.012415</td>\n",
       "      <td>0.007193</td>\n",
       "      <td>0.001136</td>\n",
       "      <td>0.000006</td>\n",
       "      <td>0.000033</td>\n",
       "      <td>5.894079e-07</td>\n",
       "    </tr>\n",
       "    <tr>\n",
       "      <th>Oil_Exports</th>\n",
       "      <td>0.221791</td>\n",
       "      <td>0.971108</td>\n",
       "      <td>0.084699</td>\n",
       "      <td>0.019798</td>\n",
       "      <td>0.011231</td>\n",
       "      <td>0.007316</td>\n",
       "      <td>0.003415</td>\n",
       "      <td>0.000016</td>\n",
       "      <td>3.744351e-06</td>\n",
       "    </tr>\n",
       "    <tr>\n",
       "      <th>Rig_Count</th>\n",
       "      <td>0.002705</td>\n",
       "      <td>0.002609</td>\n",
       "      <td>0.232344</td>\n",
       "      <td>0.481220</td>\n",
       "      <td>0.805512</td>\n",
       "      <td>0.248743</td>\n",
       "      <td>0.060885</td>\n",
       "      <td>0.000932</td>\n",
       "      <td>1.257657e-04</td>\n",
       "    </tr>\n",
       "    <tr>\n",
       "      <th>U.S._Oil_Production</th>\n",
       "      <td>0.029026</td>\n",
       "      <td>0.058432</td>\n",
       "      <td>0.659602</td>\n",
       "      <td>0.528288</td>\n",
       "      <td>0.179691</td>\n",
       "      <td>0.202852</td>\n",
       "      <td>0.104127</td>\n",
       "      <td>0.175842</td>\n",
       "      <td>4.078971e-01</td>\n",
       "    </tr>\n",
       "    <tr>\n",
       "      <th>EastCoast_Oil_Production</th>\n",
       "      <td>0.000194</td>\n",
       "      <td>0.000447</td>\n",
       "      <td>0.006674</td>\n",
       "      <td>0.001648</td>\n",
       "      <td>0.002040</td>\n",
       "      <td>0.010678</td>\n",
       "      <td>0.010641</td>\n",
       "      <td>0.912074</td>\n",
       "      <td>4.096865e-01</td>\n",
       "    </tr>\n",
       "  </tbody>\n",
       "</table>\n",
       "</div>"
      ],
      "text/plain": [
       "                               PC1       PC2       PC3       PC4       PC5  \\\n",
       "Oil_Imports               0.974498  0.223670  0.010824  0.012415  0.007193   \n",
       "Oil_Exports               0.221791  0.971108  0.084699  0.019798  0.011231   \n",
       "Rig_Count                 0.002705  0.002609  0.232344  0.481220  0.805512   \n",
       "U.S._Oil_Production       0.029026  0.058432  0.659602  0.528288  0.179691   \n",
       "EastCoast_Oil_Production  0.000194  0.000447  0.006674  0.001648  0.002040   \n",
       "\n",
       "                               PC6       PC7       PC8           PC9  \n",
       "Oil_Imports               0.001136  0.000006  0.000033  5.894079e-07  \n",
       "Oil_Exports               0.007316  0.003415  0.000016  3.744351e-06  \n",
       "Rig_Count                 0.248743  0.060885  0.000932  1.257657e-04  \n",
       "U.S._Oil_Production       0.202852  0.104127  0.175842  4.078971e-01  \n",
       "EastCoast_Oil_Production  0.010678  0.010641  0.912074  4.096865e-01  "
      ]
     },
     "metadata": {},
     "output_type": "display_data"
    },
    {
     "name": "stdout",
     "output_type": "stream",
     "text": [
      "\n",
      "PC1 top 5 feautres are \n",
      "\n"
     ]
    },
    {
     "data": {
      "text/plain": [
       "Oil_Imports                 0.974498\n",
       "Oil_Exports                 0.221791\n",
       "U.S._Oil_Production         0.029026\n",
       "GulfCoast_Oil_Production    0.015722\n",
       "Midwest_Oil_Production      0.006304\n",
       "Name: PC1, dtype: float64"
      ]
     },
     "metadata": {},
     "output_type": "display_data"
    },
    {
     "name": "stdout",
     "output_type": "stream",
     "text": [
      "\n",
      "PC2 top 5 feautres are \n",
      "\n"
     ]
    },
    {
     "data": {
      "text/plain": [
       "Oil_Exports                 0.971108\n",
       "Oil_Imports                 0.223670\n",
       "U.S._Oil_Production         0.058432\n",
       "GulfCoast_Oil_Production    0.053261\n",
       "WestCoast_Oil_Production    0.018299\n",
       "Name: PC2, dtype: float64"
      ]
     },
     "metadata": {},
     "output_type": "display_data"
    }
   ],
   "source": [
    "# X is the original numeric dataframe\n",
    "# pca is the model\n",
    "def create_importance_dataframe(pca, X):\n",
    "\n",
    "    # Change pcs components ndarray to a dataframe\n",
    "    importance_df = pd.DataFrame(pca.components_)\n",
    "\n",
    "    # Assign columns\n",
    "    importance_df.columns = X.columns\n",
    "\n",
    "    # Change to absolute values\n",
    "    importance_df = importance_df.apply(np.abs)\n",
    "\n",
    "    # Transpose\n",
    "    importance_df = importance_df.transpose()\n",
    "\n",
    "    # Change column names again\n",
    "\n",
    "    ## First get number of pcs\n",
    "    num_pcs = importance_df.shape[1]\n",
    "\n",
    "    ## Generate the new column names\n",
    "    new_columns = [f'PC{i}' for i in range(1, num_pcs + 1)]\n",
    "\n",
    "    ## Now rename\n",
    "    importance_df.columns = new_columns\n",
    "\n",
    "    # Return importance df\n",
    "    return importance_df\n",
    "\n",
    "# Call function to create importance df\n",
    "importance_df = create_importance_dataframe(pca, X)\n",
    "\n",
    "# Show first few rows\n",
    "display(importance_df.head())\n",
    "\n",
    "# Sort depending on PC of interest\n",
    "\n",
    "## PC1 top 5 important features\n",
    "pc1_top_5_features = importance_df['PC1'].sort_values(ascending = False)[:5]\n",
    "print(), print(f'PC1 top 5 feautres are \\n')\n",
    "display(pc1_top_5_features )\n",
    "\n",
    "## PC2 top 5 important features\n",
    "pc2_top_5_features = importance_df['PC2'].sort_values(ascending = False)[:5]\n",
    "print(), print(f'PC2 top 5 feautres are \\n')\n",
    "display(pc2_top_5_features )"
   ]
  },
  {
   "cell_type": "markdown",
   "metadata": {},
   "source": [
    "The features Oil Imports and Oil Exports are by far the most important features in the Principal Component Analysis. West Coast Oil Production is the most important feature for my model when predicting the Price of Oil."
   ]
  },
  {
   "cell_type": "markdown",
   "metadata": {},
   "source": [
    "Now run the model with the parameters found by Grid Search CV and scale the data with the Standard Scaler (with_mean=False)."
   ]
  },
  {
   "cell_type": "code",
   "execution_count": 31,
   "metadata": {},
   "outputs": [],
   "source": [
    "# Split the data into training and testing sets\n",
    "X_train, X_test, y_train, y_test = train_test_split(X, y, test_size = .30, random_state = 123)"
   ]
  },
  {
   "cell_type": "code",
   "execution_count": 32,
   "metadata": {},
   "outputs": [],
   "source": [
    "scaler = preprocessing.StandardScaler(with_mean=False).fit(X_train)\n",
    "X_train_scaled = scaler.transform(X_train)\n",
    "X_test_scaled = scaler.transform(X_test)"
   ]
  },
  {
   "cell_type": "code",
   "execution_count": 33,
   "metadata": {},
   "outputs": [],
   "source": [
    "algo = RandomForestRegressor(max_depth=9, max_leaf_nodes=50)\n",
    "model = algo.fit(X_train_scaled, y_train)\n",
    "preds = model.predict(X_test_scaled)"
   ]
  },
  {
   "cell_type": "code",
   "execution_count": 34,
   "metadata": {},
   "outputs": [
    {
     "name": "stdout",
     "output_type": "stream",
     "text": [
      "R2 Score is: 0.898\n",
      "MSE is: 76.144\n",
      "RMSE is: 8.726\n"
     ]
    }
   ],
   "source": [
    "# Assessment\n",
    "print('R2 Score is: %.3f' % r2_score(y_test, preds))\n",
    "print('MSE is: %.3f' % mean_squared_error(y_test, preds))\n",
    "rms = sqrt(mean_squared_error(y_test, preds))\n",
    "print('RMSE is: %.3f' % rms)"
   ]
  },
  {
   "cell_type": "markdown",
   "metadata": {},
   "source": [
    "It's a good score but now I want to try the Grid Search on the other models to see if we can beat this score."
   ]
  },
  {
   "cell_type": "code",
   "execution_count": 35,
   "metadata": {},
   "outputs": [
    {
     "name": "stdout",
     "output_type": "stream",
     "text": [
      "GradientBoostingRegressor(max_depth=6, max_leaf_nodes=10, n_estimators=300)\n",
      "0.9222776034416443\n"
     ]
    }
   ],
   "source": [
    "# define the parameters grid\n",
    "param_grid = {'max_depth': np.arange(3, 10),\n",
    "             'max_leaf_nodes': [5, 10, 20, 50],\n",
    "             'min_samples_split': [2, 5, 10],\n",
    "             'n_estimators': [100, 300, 600]}\n",
    "\n",
    "# create the grid\n",
    "grid_tree = GridSearchCV(GradientBoostingRegressor(), param_grid, cv = 3, scoring= 'r2')\n",
    "\n",
    "#training\n",
    "grid_tree.fit(X_train, y_train)\n",
    "#let's see the best estimator\n",
    "print(grid_tree.best_estimator_)\n",
    "#with its score\n",
    "print(np.abs(grid_tree.best_score_))"
   ]
  },
  {
   "cell_type": "code",
   "execution_count": 36,
   "metadata": {},
   "outputs": [],
   "source": [
    "scaler = preprocessing.MaxAbsScaler().fit(X_train)\n",
    "X_train_scaled = scaler.transform(X_train)\n",
    "X_test_scaled = scaler.transform(X_test)"
   ]
  },
  {
   "cell_type": "code",
   "execution_count": 37,
   "metadata": {},
   "outputs": [],
   "source": [
    "algo = GradientBoostingRegressor(max_depth=6, max_leaf_nodes=10, n_estimators=300)\n",
    "model = algo.fit(X_train_scaled, y_train)\n",
    "preds = model.predict(X_test_scaled)"
   ]
  },
  {
   "cell_type": "code",
   "execution_count": 38,
   "metadata": {},
   "outputs": [
    {
     "name": "stdout",
     "output_type": "stream",
     "text": [
      "R2 Score is: 0.889\n",
      "MSE is: 82.854\n",
      "RMSE is: 9.102\n"
     ]
    }
   ],
   "source": [
    "# Assessment\n",
    "print('R2 Score is: %.3f' % r2_score(y_test, preds))\n",
    "print('MSE is: %.3f' % mean_squared_error(y_test, preds))\n",
    "rms = sqrt(mean_squared_error(y_test, preds))\n",
    "print('RMSE is: %.3f' % rms)"
   ]
  },
  {
   "cell_type": "code",
   "execution_count": 39,
   "metadata": {},
   "outputs": [],
   "source": [
    "# Split the data into training and testing sets\n",
    "X_train, X_test, y_train, y_test = train_test_split(X, y, test_size = .30, random_state = 123)"
   ]
  },
  {
   "cell_type": "code",
   "execution_count": 40,
   "metadata": {},
   "outputs": [],
   "source": [
    "algo = GradientBoostingRegressor(max_depth=6, max_leaf_nodes=10, n_estimators=300)\n",
    "model = algo.fit(X_train, y_train)\n",
    "preds = model.predict(X_test)"
   ]
  },
  {
   "cell_type": "code",
   "execution_count": 41,
   "metadata": {},
   "outputs": [
    {
     "name": "stdout",
     "output_type": "stream",
     "text": [
      "R2 Score is: 0.887\n",
      "MSE is: 84.669\n",
      "RMSE is: 9.202\n"
     ]
    }
   ],
   "source": [
    "# Assessment\n",
    "print('R2 Score is: %.3f' % r2_score(y_test, preds))\n",
    "print('MSE is: %.3f' % mean_squared_error(y_test, preds))\n",
    "rms = sqrt(mean_squared_error(y_test, preds))\n",
    "print('RMSE is: %.3f' % rms)"
   ]
  },
  {
   "cell_type": "code",
   "execution_count": 42,
   "metadata": {},
   "outputs": [
    {
     "data": {
      "image/png": "[encoded data removed]",
      "text/plain": [
       "<Figure size 504x288 with 1 Axes>"
      ]
     },
     "metadata": {
      "needs_background": "light"
     },
     "output_type": "display_data"
    }
   ],
   "source": [
    "tmp = pd.DataFrame({'Feature': X, 'Feature importance': algo.feature_importances_})\n",
    "tmp = tmp.sort_values(by='Feature importance',ascending=False)\n",
    "plt.figure(figsize = (7,4))\n",
    "plt.title('Features importance',fontsize=14)\n",
    "s = sns.barplot(x='Feature',y='Feature importance',data=tmp)\n",
    "s.set_xticklabels(s.get_xticklabels(),rotation=90)\n",
    "plt.show()"
   ]
  },
  {
   "cell_type": "markdown",
   "metadata": {},
   "source": [
    "West Coast Production is again by far the most important feature for predicting the Price of Oil."
   ]
  },
  {
   "cell_type": "code",
   "execution_count": 45,
   "metadata": {},
   "outputs": [
    {
     "name": "stderr",
     "output_type": "stream",
     "text": [
      "C:\\Users\\Owner\\New folder\\envs\\DataScience\\lib\\site-packages\\sklearn\\neural_network\\_multilayer_perceptron.py:582: ConvergenceWarning: Stochastic Optimizer: Maximum iterations (300) reached and the optimization hasn't converged yet.\n",
      "  warnings.warn(\n",
      "C:\\Users\\Owner\\New folder\\envs\\DataScience\\lib\\site-packages\\sklearn\\neural_network\\_multilayer_perceptron.py:582: ConvergenceWarning: Stochastic Optimizer: Maximum iterations (300) reached and the optimization hasn't converged yet.\n",
      "  warnings.warn(\n"
     ]
    },
    {
     "name": "stdout",
     "output_type": "stream",
     "text": [
      "MLPRegressor(alpha=0.001, hidden_layer_sizes=(300,), max_iter=300)\n",
      "15.880223546571436\n"
     ]
    }
   ],
   "source": [
    "# define the parameters grid\n",
    "param_grid = {'alpha': np.arange(0.001, 0.1),\n",
    "             'hidden_layer_sizes': [(100,), (200,), (300,)],\n",
    "             'max_iter': [300, 500, 700]}\n",
    "\n",
    "# create the grid\n",
    "grid_tree = GridSearchCV(MLPRegressor(), param_grid, cv = 3, scoring= 'r2')\n",
    "\n",
    "#training\n",
    "grid_tree.fit(X_train, y_train)\n",
    "#let's see the best estimator\n",
    "print(grid_tree.best_estimator_)\n",
    "#with its score\n",
    "print(np.abs(grid_tree.best_score_))"
   ]
  },
  {
   "cell_type": "code",
   "execution_count": 46,
   "metadata": {},
   "outputs": [],
   "source": [
    "# Split the data into training and testing sets\n",
    "X_train, X_test, y_train, y_test = train_test_split(X, y, test_size = .30, random_state = 123)"
   ]
  },
  {
   "cell_type": "code",
   "execution_count": 47,
   "metadata": {},
   "outputs": [],
   "source": [
    "algo = MLPRegressor(alpha=0.001, hidden_layer_sizes=(300,), max_iter=300)\n",
    "model = algo.fit(X_train, y_train)\n",
    "preds = model.predict(X_test)"
   ]
  },
  {
   "cell_type": "code",
   "execution_count": 48,
   "metadata": {},
   "outputs": [
    {
     "name": "stdout",
     "output_type": "stream",
     "text": [
      "R2 Score is: -0.449\n",
      "MSE is: 1086.558\n",
      "RMSE is: 32.963\n"
     ]
    }
   ],
   "source": [
    "# Assessment\n",
    "print('R2 Score is: %.3f' % r2_score(y_test, preds))\n",
    "print('MSE is: %.3f' % mean_squared_error(y_test, preds))\n",
    "rms = sqrt(mean_squared_error(y_test, preds))\n",
    "print('RMSE is: %.3f' % rms)"
   ]
  },
  {
   "cell_type": "code",
   "execution_count": 49,
   "metadata": {},
   "outputs": [],
   "source": [
    "scaler = preprocessing.StandardScaler().fit(X_train)\n",
    "X_train_scaled = scaler.transform(X_train)\n",
    "X_test_scaled = scaler.transform(X_test)"
   ]
  },
  {
   "cell_type": "code",
   "execution_count": 50,
   "metadata": {},
   "outputs": [
    {
     "name": "stderr",
     "output_type": "stream",
     "text": [
      "C:\\Users\\Owner\\New folder\\envs\\DataScience\\lib\\site-packages\\sklearn\\neural_network\\_multilayer_perceptron.py:582: ConvergenceWarning: Stochastic Optimizer: Maximum iterations (300) reached and the optimization hasn't converged yet.\n",
      "  warnings.warn(\n"
     ]
    }
   ],
   "source": [
    "algo = MLPRegressor(alpha=0.001, hidden_layer_sizes=(300,), max_iter=300)\n",
    "model = algo.fit(X_train_scaled, y_train)\n",
    "preds = model.predict(X_test_scaled)"
   ]
  },
  {
   "cell_type": "code",
   "execution_count": 51,
   "metadata": {},
   "outputs": [
    {
     "name": "stdout",
     "output_type": "stream",
     "text": [
      "R2 Score is: 0.852\n",
      "MSE is: 111.294\n",
      "RMSE is: 10.550\n"
     ]
    }
   ],
   "source": [
    "# Assessment\n",
    "print('R2 Score is: %.3f' % r2_score(y_test, preds))\n",
    "print('MSE is: %.3f' % mean_squared_error(y_test, preds))\n",
    "rms = sqrt(mean_squared_error(y_test, preds))\n",
    "print('RMSE is: %.3f' % rms)"
   ]
  },
  {
   "cell_type": "code",
   "execution_count": 56,
   "metadata": {},
   "outputs": [
    {
     "name": "stdout",
     "output_type": "stream",
     "text": [
      "SVR(C=0.01, cache_size=100, epsilon=0.2, max_iter=300)\n",
      "0.12565267094662583\n"
     ]
    }
   ],
   "source": [
    "# define the parameters grid\n",
    "param_grid = {'C': np.arange(0.01, 0.1),\n",
    "              'epsilon': [0.2, 0.3, 0.4],\n",
    "              'cache_size': [100, 300, 500],\n",
    "              'max_iter': [300, 500, 700]}\n",
    "\n",
    "# create the grid\n",
    "grid_tree = GridSearchCV(SVR(), param_grid, cv = 3, scoring= 'r2')\n",
    "\n",
    "#training\n",
    "grid_tree.fit(X_train, y_train)\n",
    "#let's see the best estimator\n",
    "print(grid_tree.best_estimator_)\n",
    "#with its score\n",
    "print(np.abs(grid_tree.best_score_))"
   ]
  },
  {
   "cell_type": "code",
   "execution_count": 57,
   "metadata": {},
   "outputs": [],
   "source": [
    "# Split the data into training and testing sets\n",
    "X_train, X_test, y_train, y_test = train_test_split(X, y, test_size = .30, random_state = 123)"
   ]
  },
  {
   "cell_type": "code",
   "execution_count": 58,
   "metadata": {},
   "outputs": [],
   "source": [
    "algo = SVR(C=0.01, cache_size=100, epsilon=0.2, max_iter=300)\n",
    "model = algo.fit(X_train, y_train)\n",
    "preds = model.predict(X_test)"
   ]
  },
  {
   "cell_type": "code",
   "execution_count": 59,
   "metadata": {},
   "outputs": [
    {
     "name": "stdout",
     "output_type": "stream",
     "text": [
      "R2 Score is: -0.064\n",
      "MSE is: 797.689\n",
      "RMSE is: 28.243\n"
     ]
    }
   ],
   "source": [
    "# Assessment\n",
    "print('R2 Score is: %.3f' % r2_score(y_test, preds))\n",
    "print('MSE is: %.3f' % mean_squared_error(y_test, preds))\n",
    "rms = sqrt(mean_squared_error(y_test, preds))\n",
    "print('RMSE is: %.3f' % rms)"
   ]
  },
  {
   "cell_type": "code",
   "execution_count": 60,
   "metadata": {},
   "outputs": [],
   "source": [
    "scaler = preprocessing.MinMaxScaler().fit(X_train)\n",
    "X_train_scaled = scaler.transform(X_train)\n",
    "X_test_scaled = scaler.transform(X_test)"
   ]
  },
  {
   "cell_type": "code",
   "execution_count": 61,
   "metadata": {},
   "outputs": [],
   "source": [
    "algo = SVR(C=0.01, cache_size=100, epsilon=0.2, max_iter=300)\n",
    "model = algo.fit(X_train_scaled, y_train)\n",
    "preds = model.predict(X_test_scaled)"
   ]
  },
  {
   "cell_type": "code",
   "execution_count": 62,
   "metadata": {},
   "outputs": [
    {
     "name": "stdout",
     "output_type": "stream",
     "text": [
      "R2 Score is: -0.045\n",
      "MSE is: 783.595\n",
      "RMSE is: 27.993\n"
     ]
    }
   ],
   "source": [
    "# Assessment\n",
    "print('R2 Score is: %.3f' % r2_score(y_test, preds))\n",
    "print('MSE is: %.3f' % mean_squared_error(y_test, preds))\n",
    "rms = sqrt(mean_squared_error(y_test, preds))\n",
    "print('RMSE is: %.3f' % rms)"
   ]
  },
  {
   "cell_type": "markdown",
   "metadata": {},
   "source": [
    "Best Results Per Model:"
   ]
  },
  {
   "cell_type": "markdown",
   "metadata": {},
   "source": [
    "Random Forest Regressor - r2 Score = 0.898, RMSE = 8.726"
   ]
  },
  {
   "cell_type": "markdown",
   "metadata": {},
   "source": [
    "Gradient Boosting Regressor - r2 Score = 0.889, RMSE = 9.102"
   ]
  },
  {
   "cell_type": "markdown",
   "metadata": {},
   "source": [
    "MLP Regressor - r2 Score = 0.852, RMSE = 10.55"
   ]
  },
  {
   "cell_type": "markdown",
   "metadata": {},
   "source": [
    "Support Vector Regressor - r2 Score = -0.045, RMSE = 27.993"
   ]
  },
  {
   "cell_type": "markdown",
   "metadata": {},
   "source": [
    "The results of the analysis show I was able to build a model that can accurately predict the Price of Oil using the predictor variables in the dataset. The Random Forest Regressor model obtained the highest r2 score at 0.898 and the lowest RMSE at 8.726. Considering there are 348 distinct values for Oil Price ranging from 11.00 to 133.00 dollars, an average error of only 8.726 is exceptable for me. Using Grid Search CV to set the model parameters was the biggest factor in improving the model's performance. The variables West Coast Oil Production, Oil Imports, and Oil Exports were the most important features in the dataset for predicting the Price of Oil. The Gulf Coast Region by far produces the most oil in the U.S., with the East Coast Region producing the least."
   ]
  },
  {
   "cell_type": "code",
   "execution_count": null,
   "metadata": {},
   "outputs": [],
   "source": []
  }
 ],
 "metadata": {
  "kernelspec": {
   "display_name": "Python 3",
   "language": "python",
   "name": "python3"
  },
  "language_info": {
   "codemirror_mode": {
    "name": "ipython",
    "version": 3
   },
   "file_extension": ".py",
   "mimetype": "text/x-python",
   "name": "python",
   "nbconvert_exporter": "python",
   "pygments_lexer": "ipython3",
   "version": "3.8.3"
  }
 },
 "nbformat": 4,
 "nbformat_minor": 4
}
